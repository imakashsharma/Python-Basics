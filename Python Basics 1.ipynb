{
 "cells": [
  {
   "cell_type": "code",
   "execution_count": 8,
   "metadata": {},
   "outputs": [
    {
     "name": "stdout",
     "output_type": "stream",
     "text": [
      "40\n"
     ]
    }
   ],
   "source": [
    "a=5\n",
    "b=8\n",
    "c=a*b\n",
    "print(c)"
   ]
  },
  {
   "cell_type": "code",
   "execution_count": 7,
   "metadata": {},
   "outputs": [
    {
     "name": "stdout",
     "output_type": "stream",
     "text": [
      "akashakashakashakashakash\n"
     ]
    }
   ],
   "source": [
    "a=\"akash\"\n",
    "b=a*5\n",
    "print(b)"
   ]
  },
  {
   "cell_type": "code",
   "execution_count": 6,
   "metadata": {},
   "outputs": [
    {
     "name": "stdout",
     "output_type": "stream",
     "text": [
      "akashsharma\n"
     ]
    }
   ],
   "source": [
    "a=\"akash\"\n",
    "b=\"sharma\"\n",
    "c=a+b\n",
    "print(c)"
   ]
  },
  {
   "cell_type": "code",
   "execution_count": 5,
   "metadata": {},
   "outputs": [
    {
     "data": {
      "text/plain": [
       "True"
      ]
     },
     "execution_count": 5,
     "metadata": {},
     "output_type": "execute_result"
    }
   ],
   "source": [
    "a=5\n",
    "b=3\n",
    "a>b"
   ]
  },
  {
   "cell_type": "code",
   "execution_count": 1,
   "metadata": {},
   "outputs": [
    {
     "name": "stdout",
     "output_type": "stream",
     "text": [
      "Akash  is a  Fool\n"
     ]
    }
   ],
   "source": [
    "name=\"Akash\"\n",
    "fact=\"Fool\"\n",
    "print(name,\" is a \", fact)"
   ]
  },
  {
   "cell_type": "code",
   "execution_count": 2,
   "metadata": {},
   "outputs": [
    {
     "name": "stdout",
     "output_type": "stream",
     "text": [
      "Akash is a Fool\n"
     ]
    }
   ],
   "source": [
    "name=\"Akash\"\n",
    "fact=\"Fool\"\n",
    "print(name + \" is a \" + fact)"
   ]
  },
  {
   "cell_type": "code",
   "execution_count": 3,
   "metadata": {},
   "outputs": [
    {
     "name": "stdout",
     "output_type": "stream",
     "text": [
      "5\n"
     ]
    }
   ],
   "source": [
    "num1=3\n",
    "num2=5\n",
    "answer=num1+num2-num1\n",
    "print(answer)"
   ]
  },
  {
   "cell_type": "code",
   "execution_count": 2,
   "metadata": {},
   "outputs": [
    {
     "name": "stdout",
     "output_type": "stream",
     "text": [
      "Enter your job detailsplumber\n",
      "Are you satisfy with your job? Yes or Notyes\n",
      "Enter Nameakash\n",
      "akash who is working as a plumber is yes satisfy \n"
     ]
    }
   ],
   "source": [
    "job=input(\"Enter your job details\")\n",
    "satisfy=input(\"Are you satisfy with your job? Yes or Not\")\n",
    "name=input(\"Enter Name\")\n",
    "print(name +\" who is working as a \" + job + \" is \" + satisfy+ \" satisfy \")"
   ]
  },
  {
   "cell_type": "code",
   "execution_count": 10,
   "metadata": {},
   "outputs": [
    {
     "name": "stdout",
     "output_type": "stream",
     "text": [
      "Enter your number:22\n",
      "32\n"
     ]
    }
   ],
   "source": [
    "name=input(\"Enter your number:\")\n",
    "print(10 + int(name))"
   ]
  },
  {
   "cell_type": "code",
   "execution_count": 11,
   "metadata": {},
   "outputs": [
    {
     "name": "stdout",
     "output_type": "stream",
     "text": [
      "Akash 3 Sharma\n"
     ]
    }
   ],
   "source": [
    "print(\"Akash\",3,\"Sharma\")"
   ]
  },
  {
   "cell_type": "code",
   "execution_count": 12,
   "metadata": {},
   "outputs": [
    {
     "name": "stdout",
     "output_type": "stream",
     "text": [
      "enter your nameakash\n",
      "akash - the total is $ 5.5 for todays purchase\n"
     ]
    }
   ],
   "source": [
    "totalcost=5.5\n",
    "username=input(\"enter your name\")\n",
    "print(username,\"- the total is $\",totalcost,\"for todays purchase\")"
   ]
  },
  {
   "cell_type": "code",
   "execution_count": 3,
   "metadata": {},
   "outputs": [
    {
     "data": {
      "text/plain": [
       "'0b11001'"
      ]
     },
     "execution_count": 3,
     "metadata": {},
     "output_type": "execute_result"
    }
   ],
   "source": [
    "#converting a decimal to binary/binary represents by \"0b\"\n",
    "bin(25)"
   ]
  },
  {
   "cell_type": "code",
   "execution_count": 4,
   "metadata": {},
   "outputs": [
    {
     "data": {
      "text/plain": [
       "25"
      ]
     },
     "execution_count": 4,
     "metadata": {},
     "output_type": "execute_result"
    }
   ],
   "source": [
    "#converting a binary to decimal,binary represents by \"0b\"\n",
    "0b11001\n"
   ]
  },
  {
   "cell_type": "code",
   "execution_count": 5,
   "metadata": {},
   "outputs": [
    {
     "data": {
      "text/plain": [
       "'0o31'"
      ]
     },
     "execution_count": 5,
     "metadata": {},
     "output_type": "execute_result"
    }
   ],
   "source": [
    "#converting a decimal to octal,octal represents by\"0o\"\n",
    "oct(25)"
   ]
  },
  {
   "cell_type": "code",
   "execution_count": 6,
   "metadata": {},
   "outputs": [
    {
     "data": {
      "text/plain": [
       "25"
      ]
     },
     "execution_count": 6,
     "metadata": {},
     "output_type": "execute_result"
    }
   ],
   "source": [
    "#converting a octal to decimal,octal represents by\"0o\"\n",
    "0o31"
   ]
  },
  {
   "cell_type": "code",
   "execution_count": 9,
   "metadata": {},
   "outputs": [
    {
     "name": "stdout",
     "output_type": "stream",
     "text": [
      "0x19\n",
      "15\n"
     ]
    }
   ],
   "source": [
    "#converting a octal to hexadecimal,hexadecimal represents by\"0x\" and converting a hexadecimal to octal\n",
    "print(hex(25))\n",
    "print(0xf)"
   ]
  },
  {
   "cell_type": "code",
   "execution_count": 12,
   "metadata": {},
   "outputs": [
    {
     "data": {
      "text/plain": [
       "-13"
      ]
     },
     "execution_count": 12,
     "metadata": {},
     "output_type": "execute_result"
    }
   ],
   "source": [
    "# Complement(~)Bitwise operators\n",
    "~12"
   ]
  },
  {
   "cell_type": "code",
   "execution_count": 13,
   "metadata": {},
   "outputs": [
    {
     "data": {
      "text/plain": [
       "12"
      ]
     },
     "execution_count": 13,
     "metadata": {},
     "output_type": "execute_result"
    }
   ],
   "source": [
    "#Bitwise AND operators\n",
    "12 & 13"
   ]
  },
  {
   "cell_type": "code",
   "execution_count": 14,
   "metadata": {},
   "outputs": [
    {
     "data": {
      "text/plain": [
       "13"
      ]
     },
     "execution_count": 14,
     "metadata": {},
     "output_type": "execute_result"
    }
   ],
   "source": [
    "#Bitwise OR operators\n",
    "12 | 13"
   ]
  },
  {
   "cell_type": "code",
   "execution_count": 15,
   "metadata": {},
   "outputs": [
    {
     "data": {
      "text/plain": [
       "1"
      ]
     },
     "execution_count": 15,
     "metadata": {},
     "output_type": "execute_result"
    }
   ],
   "source": [
    "#Bitwise XOR operators\n",
    "12 ^ 13"
   ]
  },
  {
   "cell_type": "code",
   "execution_count": 13,
   "metadata": {},
   "outputs": [
    {
     "name": "stdout",
     "output_type": "stream",
     "text": [
      "it is\"time to play\n"
     ]
    }
   ],
   "source": [
    "# using the quotation sign(\"/')\n",
    "print('it is\"time to play')"
   ]
  },
  {
   "cell_type": "code",
   "execution_count": 17,
   "metadata": {},
   "outputs": [
    {
     "name": "stdout",
     "output_type": "stream",
     "text": [
      "Entered the string:akash\n",
      "hsaka\n"
     ]
    }
   ],
   "source": [
    "# using stride as for loop to reverse the string\n",
    "akash = input(\"Entered the string:\")\n",
    "print(akash[::-1])\n"
   ]
  },
  {
   "cell_type": "code",
   "execution_count": 7,
   "metadata": {},
   "outputs": [
    {
     "name": "stdout",
     "output_type": "stream",
     "text": [
      "Enter the Name:y\n",
      "Enter first digit:6\n",
      "Enter the second digit:2\n",
      "Enter the second digit:8\n",
      "yehh!\n"
     ]
    }
   ],
   "source": [
    "# if else statement\n",
    "name=str(input(\"Enter the Name:\"))\n",
    "type(\"name\")\n",
    "a=int(input(\"Enter first digit:\"))\n",
    "b=int(input(\"Enter the second digit:\"))\n",
    "c=int(input(\"Enter the second digit:\"))\n",
    "d=a+b\n",
    "if d==c :\n",
    "    print(\"yehh!\")\n",
    "else:\n",
    "    print(\"ohhh!\")\n"
   ]
  },
  {
   "cell_type": "code",
   "execution_count": 1,
   "metadata": {},
   "outputs": [
    {
     "name": "stdout",
     "output_type": "stream",
     "text": [
      "Enter first digit5\n",
      "Enter the second digit6\n",
      "conditon false\n"
     ]
    }
   ],
   "source": [
    "# if else statement\n",
    "a=int(input(\"Enter first digit\"))\n",
    "b=int(input(\"Enter the second digit\"))\n",
    "if a>b :\n",
    "    print(\"condition true\")\n",
    "else:\n",
    "    print(\"conditon false\")"
   ]
  },
  {
   "cell_type": "code",
   "execution_count": null,
   "metadata": {},
   "outputs": [],
   "source": [
    "# if else statement\n",
    "a=int(input(\"Enter first digit:\"))\n",
    "b=int(input(\"Enter the second digit:\"))\n",
    "if a==b and b==a:\n",
    "    print(\"yes\")\n",
    "else:\n",
    "    print(\"no\")"
   ]
  },
  {
   "cell_type": "code",
   "execution_count": 6,
   "metadata": {},
   "outputs": [
    {
     "data": {
      "text/plain": [
       "str"
      ]
     },
     "execution_count": 6,
     "metadata": {},
     "output_type": "execute_result"
    }
   ],
   "source": [
    "# type function to find the type of the variable or data\n",
    "type(\"akash\")"
   ]
  },
  {
   "cell_type": "code",
   "execution_count": 15,
   "metadata": {},
   "outputs": [
    {
     "name": "stdout",
     "output_type": "stream",
     "text": [
      "Enter the First Digit5\n",
      "Enter the Second Digit6\n",
      "Enter the Third Digit1\n",
      "Enter the Fourth Digit5\n",
      "The average is 4.25\n"
     ]
    }
   ],
   "source": [
    "#programm to find the average of the input digit\n",
    "a=int(input(\"Enter the First Digit\"))\n",
    "b=int(input(\"Enter the Second Digit\"))\n",
    "c=int(input(\"Enter the Third Digit\"))\n",
    "d=int(input(\"Enter the Fourth Digit\"))\n",
    "total = a+b+c+d\n",
    "average = total/4\n",
    "print(\"The average is \" + str(average))"
   ]
  },
  {
   "cell_type": "code",
   "execution_count": 20,
   "metadata": {},
   "outputs": [
    {
     "name": "stdout",
     "output_type": "stream",
     "text": [
      "shubham sharma\n"
     ]
    }
   ],
   "source": [
    "#\",\" comma as a space between to variable\n",
    "a=\"shubham\"\n",
    "b=\"sharma\"\n",
    "print(a,b)"
   ]
  },
  {
   "cell_type": "code",
   "execution_count": 22,
   "metadata": {},
   "outputs": [
    {
     "name": "stdout",
     "output_type": "stream",
     "text": [
      "Ramma said \"My self RAMMMA\"\n"
     ]
    }
   ],
   "source": [
    "#using the quatation \n",
    "print('Ramma said \"My self RAMMMA\"')"
   ]
  },
  {
   "cell_type": "code",
   "execution_count": 3,
   "metadata": {},
   "outputs": [
    {
     "data": {
      "text/plain": [
       "True"
      ]
     },
     "execution_count": 3,
     "metadata": {},
     "output_type": "execute_result"
    }
   ],
   "source": [
    "# .isalpha() keyword to check the string is in  alphabatic charecter form b/w range of [A-b],[a-z] \n",
    "akash=\"hello\"\n",
    "akash.isalpha()"
   ]
  },
  {
   "cell_type": "code",
   "execution_count": 25,
   "metadata": {},
   "outputs": [
    {
     "data": {
      "text/plain": [
       "False"
      ]
     },
     "execution_count": 25,
     "metadata": {},
     "output_type": "execute_result"
    }
   ],
   "source": [
    "# .isalpha() keyword to check the string is in  alphabatic charecter form b/w range of [A-b],[a-z]\n",
    "akash=\"3\"\n",
    "akash.isalpha()"
   ]
  },
  {
   "cell_type": "code",
   "execution_count": 28,
   "metadata": {},
   "outputs": [
    {
     "data": {
      "text/plain": [
       "True"
      ]
     },
     "execution_count": 28,
     "metadata": {},
     "output_type": "execute_result"
    }
   ],
   "source": [
    "# .isalum() keyword to check the exsistence of atleast one digit/numberic in the string\n",
    "akash=\"akash1\"\n",
    "akash.isalnum()"
   ]
  },
  {
   "cell_type": "code",
   "execution_count": 35,
   "metadata": {},
   "outputs": [
    {
     "data": {
      "text/plain": [
       "True"
      ]
     },
     "execution_count": 35,
     "metadata": {},
     "output_type": "execute_result"
    }
   ],
   "source": [
    "# .isalum() keyword to check the exsistence of atleast one digit/numberic in the string\n",
    "akash=\"8847563677\"\n",
    "akash.isalnum()"
   ]
  },
  {
   "cell_type": "code",
   "execution_count": 36,
   "metadata": {},
   "outputs": [
    {
     "data": {
      "text/plain": [
       "False"
      ]
     },
     "execution_count": 36,
     "metadata": {},
     "output_type": "execute_result"
    }
   ],
   "source": [
    "# .istitle() keyword to check that string should be in 'title' format  i.e. first letter of the each word should be capital\n",
    "akash=\"There is a dog\"\n",
    "akash.istitle()"
   ]
  },
  {
   "cell_type": "code",
   "execution_count": 37,
   "metadata": {},
   "outputs": [
    {
     "data": {
      "text/plain": [
       "True"
      ]
     },
     "execution_count": 37,
     "metadata": {},
     "output_type": "execute_result"
    }
   ],
   "source": [
    "# .istitle() keyword to check that string should be in 'title' format  i.e. first letter of the each word should be capital\n",
    "akash=\"There Is A Dog\"\n",
    "akash.istitle()"
   ]
  },
  {
   "cell_type": "code",
   "execution_count": 44,
   "metadata": {},
   "outputs": [
    {
     "data": {
      "text/plain": [
       "True"
      ]
     },
     "execution_count": 44,
     "metadata": {},
     "output_type": "execute_result"
    }
   ],
   "source": [
    "# .isdigit() keyword to check that string should be in integr/numberic format\n",
    "akash=\"16446445\"\n",
    "akash.isdigit()"
   ]
  },
  {
   "cell_type": "code",
   "execution_count": 45,
   "metadata": {},
   "outputs": [
    {
     "data": {
      "text/plain": [
       "True"
      ]
     },
     "execution_count": 45,
     "metadata": {},
     "output_type": "execute_result"
    }
   ],
   "source": [
    "# .isupper() keyword to check that string is in upper/all the cahrecter shoulb be in capital format \n",
    "akash=\"CAPITALIZATIOM\"\n",
    "akash.isupper()"
   ]
  },
  {
   "cell_type": "code",
   "execution_count": 46,
   "metadata": {},
   "outputs": [
    {
     "data": {
      "text/plain": [
       "False"
      ]
     },
     "execution_count": 46,
     "metadata": {},
     "output_type": "execute_result"
    }
   ],
   "source": [
    "# .isupper() keyword to check that string is in upper/all the charecter shoulb be in capital format \n",
    "akash=\"akash\"\n",
    "akash.isupper()"
   ]
  },
  {
   "cell_type": "code",
   "execution_count": 47,
   "metadata": {},
   "outputs": [
    {
     "data": {
      "text/plain": [
       "True"
      ]
     },
     "execution_count": 47,
     "metadata": {},
     "output_type": "execute_result"
    }
   ],
   "source": [
    "# .islower() keyword to check that string is in lower/all the charecter shoulb be in small format \n",
    "akash=\"akashsharma\"\n",
    "akash.islower()"
   ]
  },
  {
   "cell_type": "code",
   "execution_count": 48,
   "metadata": {},
   "outputs": [
    {
     "data": {
      "text/plain": [
       "False"
      ]
     },
     "execution_count": 48,
     "metadata": {},
     "output_type": "execute_result"
    }
   ],
   "source": [
    "# .islower() keyword to check that string is in lower/all the charecter shoulb be in small format \n",
    "akash=\"AKASH SHARMA\"\n",
    "akash.islower()"
   ]
  },
  {
   "cell_type": "code",
   "execution_count": 51,
   "metadata": {},
   "outputs": [
    {
     "data": {
      "text/plain": [
       "True"
      ]
     },
     "execution_count": 51,
     "metadata": {},
     "output_type": "execute_result"
    }
   ],
   "source": [
    "# .startswith(condition) to check that the string is starting with the given condition or not\n",
    "akash=\"hello my name is akash sharma\"\n",
    "akash.startswith(\"h\")"
   ]
  },
  {
   "cell_type": "code",
   "execution_count": 53,
   "metadata": {},
   "outputs": [
    {
     "data": {
      "text/plain": [
       "'Akash'"
      ]
     },
     "execution_count": 53,
     "metadata": {},
     "output_type": "execute_result"
    }
   ],
   "source": [
    "# .capitalize() to capitalize the first letter of the string\n",
    "akash=\"akash\"\n",
    "akash.capitalize()"
   ]
  },
  {
   "cell_type": "code",
   "execution_count": 55,
   "metadata": {},
   "outputs": [
    {
     "data": {
      "text/plain": [
       "'akash sharma'"
      ]
     },
     "execution_count": 55,
     "metadata": {},
     "output_type": "execute_result"
    }
   ],
   "source": [
    "# .lower() to make the string in lower case\n",
    "akash=\"AKASH SHARMA\"\n",
    "akash.lower()"
   ]
  },
  {
   "cell_type": "code",
   "execution_count": 56,
   "metadata": {},
   "outputs": [
    {
     "data": {
      "text/plain": [
       "'AKASH SHARMA'"
      ]
     },
     "execution_count": 56,
     "metadata": {},
     "output_type": "execute_result"
    }
   ],
   "source": [
    "# .upper() to make the string in upper case\n",
    "akash=\"akash sharma\"\n",
    "akash.upper()"
   ]
  },
  {
   "cell_type": "code",
   "execution_count": 57,
   "metadata": {},
   "outputs": [
    {
     "data": {
      "text/plain": [
       "'akash SHARMA'"
      ]
     },
     "execution_count": 57,
     "metadata": {},
     "output_type": "execute_result"
    }
   ],
   "source": [
    "# .swapcase() to swap the cases of string is upper to lower and lower to upper\n",
    "akash=\"AKASH sharma\"\n",
    "akash.swapcase()"
   ]
  },
  {
   "cell_type": "code",
   "execution_count": 59,
   "metadata": {},
   "outputs": [
    {
     "data": {
      "text/plain": [
       "'It Is Akash Sharam'"
      ]
     },
     "execution_count": 59,
     "metadata": {},
     "output_type": "execute_result"
    }
   ],
   "source": [
    "# .title() to capitalise the first charecter of each word i.e. first charecter after every space \n",
    "akash=\"it is akash sharam\"\n",
    "akash.title()"
   ]
  },
  {
   "cell_type": "code",
   "execution_count": 65,
   "metadata": {},
   "outputs": [
    {
     "name": "stdout",
     "output_type": "stream",
     "text": [
      "Enter The Sentence hello my self akash sharma from phagwara\n",
      "Hello My Self Akash Sharma From Phagwara\n"
     ]
    }
   ],
   "source": [
    "# .title() to capitalise the first charecter of each word i.e. first charecter after every space \n",
    "name=input(\"Enter The Sentence \").title()\n",
    "print(name)"
   ]
  },
  {
   "cell_type": "code",
   "execution_count": 64,
   "metadata": {},
   "outputs": [
    {
     "name": "stdout",
     "output_type": "stream",
     "text": [
      "Enter your Full Nameakash SHARMA\n",
      "AKASH sharma\n"
     ]
    }
   ],
   "source": [
    "name=input(\"Enter your Full Name\").swapcase()\n",
    "print(name)"
   ]
  },
  {
   "cell_type": "code",
   "execution_count": 70,
   "metadata": {},
   "outputs": [
    {
     "name": "stdout",
     "output_type": "stream",
     "text": [
      "Enter your Nameakash sharma\n",
      "Akash Sharma\n"
     ]
    }
   ],
   "source": [
    "name=input(\"Enter your Name\").capitalize().title()\n",
    "print(name)"
   ]
  },
  {
   "cell_type": "code",
   "execution_count": 71,
   "metadata": {},
   "outputs": [
    {
     "name": "stdout",
     "output_type": "stream",
     "text": [
      "INRO TO PYTHON\n"
     ]
    }
   ],
   "source": [
    "akash=\"inro to python\"\n",
    "print(akash.upper())"
   ]
  },
  {
   "cell_type": "code",
   "execution_count": 31,
   "metadata": {},
   "outputs": [
    {
     "name": "stdout",
     "output_type": "stream",
     "text": [
      "Enter ypur name akash\n",
      "False\n"
     ]
    }
   ],
   "source": [
    "msg=input(\"Enter ypur name \")\n",
    "print(\"shubham\" in msg)"
   ]
  },
  {
   "cell_type": "code",
   "execution_count": 1,
   "metadata": {},
   "outputs": [
    {
     "name": "stdout",
     "output_type": "stream",
     "text": [
      "Enter your name akash\n",
      "True\n"
     ]
    }
   ],
   "source": [
    "msg=input(\"Enter your name \")\n",
    "print(\"akash\" in  msg)"
   ]
  },
  {
   "cell_type": "code",
   "execution_count": 91,
   "metadata": {},
   "outputs": [
    {
     "name": "stdout",
     "output_type": "stream",
     "text": [
      "Enter a valid email id qqqakash@gmail.com\n",
      "False\n"
     ]
    }
   ],
   "source": [
    "n=input(\"Enter a valid email id \")\n",
    "print(\"qqqakash@gmail.com\" + \"itisakashsharma@gmail.com\" in n)"
   ]
  },
  {
   "cell_type": "code",
   "execution_count": null,
   "metadata": {},
   "outputs": [],
   "source": [
    "#function to add two number\n",
    "def add():\n",
    "    a=input(\"Enter the first digit:\")\n",
    "    b=input(\"Enter the second digit:\")\n",
    "    c=int(a)+int(b)\n",
    "    return(c)\n",
    "\n",
    "print(\"Functions in python\")\n",
    "d=add()\n",
    "print(d)    "
   ]
  },
  {
   "cell_type": "code",
   "execution_count": null,
   "metadata": {},
   "outputs": [],
   "source": [
    "#function to swap two number\n",
    "def swapping():\n",
    "    a=int(input(\"Enter the 1 num:\"))\n",
    "    b=int(input(\"Enter the 2 num:\"))\n",
    "    temp=0\n",
    "    a==temp\n",
    "    b==a\n",
    "    temp=a\n",
    "    print(\"After swapping 1 num= \",b)\n",
    "    print(\"After swapping 2 num= \",temp)\n",
    "    return()\n",
    "print(\"Swapping of numbers\")\n",
    "x=input(\"Enter your first name\").title()\n",
    "print(x)\n",
    "y=input(\"Enter yous last name\").title()\n",
    "print(y)\n",
    "swapping()\n"
   ]
  },
  {
   "cell_type": "code",
   "execution_count": null,
   "metadata": {},
   "outputs": [],
   "source": [
    "a=\"akash\"\n",
    "a.startswith(\"a\")"
   ]
  },
  {
   "cell_type": "code",
   "execution_count": 29,
   "metadata": {},
   "outputs": [
    {
     "data": {
      "text/plain": [
       "True"
      ]
     },
     "execution_count": 29,
     "metadata": {},
     "output_type": "execute_result"
    }
   ],
   "source": [
    "\"hello\".isalpha()"
   ]
  },
  {
   "cell_type": "code",
   "execution_count": 14,
   "metadata": {},
   "outputs": [
    {
     "data": {
      "text/plain": [
       "True"
      ]
     },
     "execution_count": 14,
     "metadata": {},
     "output_type": "execute_result"
    }
   ],
   "source": [
    "\"8847563677\".isdigit()"
   ]
  },
  {
   "cell_type": "code",
   "execution_count": 39,
   "metadata": {},
   "outputs": [
    {
     "data": {
      "text/plain": [
       "'Hello'"
      ]
     },
     "execution_count": 39,
     "metadata": {},
     "output_type": "execute_result"
    }
   ],
   "source": [
    "a=\"hello\"\n",
    "a.capitalize()"
   ]
  },
  {
   "cell_type": "code",
   "execution_count": 15,
   "metadata": {},
   "outputs": [
    {
     "data": {
      "text/plain": [
       "True"
      ]
     },
     "execution_count": 15,
     "metadata": {},
     "output_type": "execute_result"
    }
   ],
   "source": [
    "l=\"akash1999\"\n",
    "l.isalnum()"
   ]
  },
  {
   "cell_type": "code",
   "execution_count": 57,
   "metadata": {},
   "outputs": [
    {
     "name": "stdout",
     "output_type": "stream",
     "text": [
      "True\n"
     ]
    }
   ],
   "source": [
    "y=\"NAME\"\n",
    "print(\"a\" in y.lower())"
   ]
  },
  {
   "cell_type": "code",
   "execution_count": 1,
   "metadata": {},
   "outputs": [
    {
     "name": "stdout",
     "output_type": "stream",
     "text": [
      "First Number is: 5\n",
      "Second Number is: 6\n",
      "11\n"
     ]
    }
   ],
   "source": [
    "#function with parameters\n",
    "def format_name(num1,num2):\n",
    "    print(\"First Number is:\",num1)\n",
    "    print(\"Second Number is:\",num2)\n",
    "    total=num1+num2\n",
    "    print(total)\n",
    "    \n",
    "format_name(5,6)"
   ]
  },
  {
   "cell_type": "code",
   "execution_count": 20,
   "metadata": {},
   "outputs": [
    {
     "name": "stdout",
     "output_type": "stream",
     "text": [
      "Enter your Name:akash\n",
      "Enter your Address:thapr \n",
      "Enter your PinCode:01446\n",
      "The Name you entred : Akash\n",
      "The Addrss you enterd: Thapr \n",
      "The PinCode you enterd 01446\n"
     ]
    }
   ],
   "source": [
    "#function with parameters\n",
    "def info(name,address,pincode):\n",
    "    print(\"The Name you entred :\",name)\n",
    "    print(\"The Addrss you enterd:\",address)\n",
    "    print(\"The PinCode you enterd\",pincode)\n",
    "    \n",
    "name=input(\"Enter your Name:\").title()\n",
    "address=input(\"Enter your Address:\").title()\n",
    "pincode=input(\"Enter your PinCode:\")\n",
    "pincode.isdigit()\n",
    "info(name,address,pincode)\n",
    "    "
   ]
  },
  {
   "cell_type": "code",
   "execution_count": 35,
   "metadata": {},
   "outputs": [
    {
     "name": "stdout",
     "output_type": "stream",
     "text": [
      "Enter your Name:1234\n",
      "Enter valid Name\n"
     ]
    }
   ],
   "source": [
    "#conditional statements with modules\n",
    "b=input(\"Enter your Name:\")\n",
    "##b=input(\"Enter your Name:\")\n",
    "if b.isalnum() and not(b.isdigit()) :\n",
    "    print(b)\n",
    "else :\n",
    "    print(\"Enter valid Name\")\n",
    "    "
   ]
  },
  {
   "cell_type": "code",
   "execution_count": 48,
   "metadata": {},
   "outputs": [
    {
     "name": "stdout",
     "output_type": "stream",
     "text": [
      "Enter the didgit:5\n",
      "Hello\n"
     ]
    }
   ],
   "source": [
    "#conditional statements in a function \n",
    "def num(n):\n",
    "    if n>5 or n<45:\n",
    "        print(\"Hello\")\n",
    "    else :\n",
    "        print(\"Byee\")\n",
    "        \n",
    "n=int(input(\"Enter the didgit:\"))\n",
    "num(n)\n",
    "      "
   ]
  },
  {
   "cell_type": "code",
   "execution_count": 31,
   "metadata": {},
   "outputs": [
    {
     "name": "stdout",
     "output_type": "stream",
     "text": [
      "<class '__main__.maths'>\n",
      "11\n"
     ]
    }
   ],
   "source": [
    "class maths:\n",
    "    def sharma(self):\n",
    "        a=5\n",
    "        b=6\n",
    "        print(a+b)\n",
    "\n",
    "add=maths()\n",
    "print(type(add))\n",
    "add.sharma()"
   ]
  },
  {
   "cell_type": "code",
   "execution_count": 1,
   "metadata": {},
   "outputs": [
    {
     "name": "stdout",
     "output_type": "stream",
     "text": [
      "All integers are Not Greater than 6\n"
     ]
    }
   ],
   "source": [
    "#if with all statement\n",
    "akash=[5,9,6,3,5,2,8]\n",
    "if all([i>6 for i in akash]):\n",
    "    print(\"All integers are Greater than 6\")\n",
    "else:\n",
    "     print(\"All integers are Not Greater than 6\")"
   ]
  },
  {
   "cell_type": "code",
   "execution_count": 2,
   "metadata": {},
   "outputs": [
    {
     "name": "stdout",
     "output_type": "stream",
     "text": [
      "There is a integer Greater than the 6\n"
     ]
    }
   ],
   "source": [
    "#if with any statement\n",
    "akash=[5,9,6,3,5,2,8]\n",
    "if any([j>6 for j in akash]):\n",
    "    print(\"There is a integer Greater than the 6\")\n",
    "else:\n",
    "    print(\"There is no integer Grater than 6\")"
   ]
  },
  {
   "cell_type": "code",
   "execution_count": 4,
   "metadata": {},
   "outputs": [
    {
     "name": "stdout",
     "output_type": "stream",
     "text": [
      "Dont know\n",
      "Dont know\n",
      "Dont know\n",
      "Dont know\n",
      "Dont know\n",
      "Dont know\n",
      "Dont know\n"
     ]
    }
   ],
   "source": [
    "#enumerate function i.e. prints the  same statement = number of the elements exsisting in the list\n",
    "for v in enumerate(akash):\n",
    "    print(\"Dont know\")"
   ]
  },
  {
   "cell_type": "code",
   "execution_count": 1,
   "metadata": {},
   "outputs": [],
   "source": [
    "#working with JSON file \n",
    "book = {}\n",
    "book['akash'] = {\n",
    "    'name': 'akash',\n",
    "    'address': 'thapar colony phagwara',\n",
    "    'phone': '9915187837'\n",
    "}\n",
    "book['shubham'] = {\n",
    "    'name': 'shubham',\n",
    "    'address': 'greater kailash phagwara',\n",
    "    'phone': '8847563677'\n",
    "}\n",
    "import json\n",
    "s=json.dumps(book)\n",
    "with open(\"book.csv\",\"w\") as f:\n",
    "    f.write(s)"
   ]
  },
  {
   "cell_type": "code",
   "execution_count": 4,
   "metadata": {},
   "outputs": [],
   "source": [
    "book = {}\n",
    "book['akash'] = {\n",
    "    'name': 'akash',\n",
    "    'address': 'thapar colony phagwara',\n",
    "    'phone': '9915187837'\n",
    "}\n",
    "book['shubham'] = {\n",
    "    'name': 'shubham',\n",
    "    'address': 'greater kailash phagwara',\n",
    "    'phone': '8847563677'\n",
    "}\n",
    "import json\n",
    "s=json.dumps(book)\n",
    "with open(\"book.txt\",\"w\") as f:\n",
    "    f.write(s)"
   ]
  },
  {
   "cell_type": "code",
   "execution_count": 7,
   "metadata": {},
   "outputs": [
    {
     "data": {
      "text/plain": [
       "'{\"akash\": {\"name\": \"akash\", \"address\": \"thapar colony phagwara\", \"phone\": \"9915187837\"}, \"shubham\": {\"name\": \"shubham\", \"address\": \"greater kailash phagwara\", \"phone\": \"8847563677\"}}'"
      ]
     },
     "execution_count": 7,
     "metadata": {},
     "output_type": "execute_result"
    }
   ],
   "source": [
    "f=open(\"book.csv\")\n",
    "s=f.read()\n",
    "s"
   ]
  },
  {
   "cell_type": "code",
   "execution_count": 8,
   "metadata": {},
   "outputs": [
    {
     "data": {
      "text/plain": [
       "'{\"akash\": {\"name\": \"akash\", \"address\": \"thapar colony phagwara\", \"phone\": \"9915187837\"}, \"shubham\": {\"name\": \"shubham\", \"address\": \"greater kailash phagwara\", \"phone\": \"8847563677\"}}'"
      ]
     },
     "execution_count": 8,
     "metadata": {},
     "output_type": "execute_result"
    }
   ],
   "source": [
    "f=open(\"book.txt\")\n",
    "s=f.read()\n",
    "s"
   ]
  },
  {
   "cell_type": "code",
   "execution_count": 9,
   "metadata": {},
   "outputs": [
    {
     "data": {
      "text/plain": [
       "{'akash': {'name': 'akash',\n",
       "  'address': 'thapar colony phagwara',\n",
       "  'phone': '9915187837'},\n",
       " 'shubham': {'name': 'shubham',\n",
       "  'address': 'greater kailash phagwara',\n",
       "  'phone': '8847563677'}}"
      ]
     },
     "execution_count": 9,
     "metadata": {},
     "output_type": "execute_result"
    }
   ],
   "source": [
    "import json\n",
    "book=json.loads(s)\n",
    "book"
   ]
  },
  {
   "cell_type": "code",
   "execution_count": 10,
   "metadata": {},
   "outputs": [
    {
     "data": {
      "text/plain": [
       "dict"
      ]
     },
     "execution_count": 10,
     "metadata": {},
     "output_type": "execute_result"
    }
   ],
   "source": [
    "type(book)"
   ]
  },
  {
   "cell_type": "code",
   "execution_count": 11,
   "metadata": {},
   "outputs": [
    {
     "data": {
      "text/plain": [
       "{'name': 'shubham',\n",
       " 'address': 'greater kailash phagwara',\n",
       " 'phone': '8847563677'}"
      ]
     },
     "execution_count": 11,
     "metadata": {},
     "output_type": "execute_result"
    }
   ],
   "source": [
    "book['shubham']"
   ]
  },
  {
   "cell_type": "code",
   "execution_count": 12,
   "metadata": {},
   "outputs": [
    {
     "data": {
      "text/plain": [
       "'8847563677'"
      ]
     },
     "execution_count": 12,
     "metadata": {},
     "output_type": "execute_result"
    }
   ],
   "source": [
    "book['shubham']['phone']"
   ]
  },
  {
   "cell_type": "code",
   "execution_count": 13,
   "metadata": {},
   "outputs": [
    {
     "name": "stdout",
     "output_type": "stream",
     "text": [
      "{'name': 'akash', 'address': 'thapar colony phagwara', 'phone': '9915187837'}\n",
      "{'name': 'shubham', 'address': 'greater kailash phagwara', 'phone': '8847563677'}\n"
     ]
    }
   ],
   "source": [
    "for person in book:\n",
    "    print(book[person])"
   ]
  },
  {
   "cell_type": "code",
   "execution_count": null,
   "metadata": {},
   "outputs": [],
   "source": []
  }
 ],
 "metadata": {
  "kernelspec": {
   "display_name": "Python 3",
   "language": "python",
   "name": "python3"
  },
  "language_info": {
   "codemirror_mode": {
    "name": "ipython",
    "version": 3
   },
   "file_extension": ".py",
   "mimetype": "text/x-python",
   "name": "python",
   "nbconvert_exporter": "python",
   "pygments_lexer": "ipython3",
   "version": "3.7.4"
  }
 },
 "nbformat": 4,
 "nbformat_minor": 2
}
