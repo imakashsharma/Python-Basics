{
 "cells": [
  {
   "cell_type": "code",
   "execution_count": 4,
   "metadata": {},
   "outputs": [
    {
     "name": "stdout",
     "output_type": "stream",
     "text": [
      "li\n"
     ]
    }
   ],
   "source": [
    "#stride urf fetching the item from a string objectsby giving the inittial value and the number of the \n",
    "name=\"lizz\"\n",
    "print(name[0:2])"
   ]
  },
  {
   "cell_type": "code",
   "execution_count": 54,
   "metadata": {},
   "outputs": [
    {
     "name": "stdout",
     "output_type": "stream",
     "text": [
      "0246\n"
     ]
    }
   ],
   "source": [
    "#displaying data by applying limit\n",
    "var='01234567'\n",
    "print(var[::2])"
   ]
  },
  {
   "cell_type": "code",
   "execution_count": 7,
   "metadata": {
    "scrolled": true
   },
   "outputs": [
    {
     "data": {
      "text/plain": [
       "12.2"
      ]
     },
     "execution_count": 7,
     "metadata": {},
     "output_type": "execute_result"
    }
   ],
   "source": [
    "#fetching the item from a touple using indexing\n",
    "akash=(\"akash\",12.2,5)\n",
    "akash[1]"
   ]
  },
  {
   "cell_type": "code",
   "execution_count": 11,
   "metadata": {},
   "outputs": [
    {
     "data": {
      "text/plain": [
       "4"
      ]
     },
     "execution_count": 11,
     "metadata": {},
     "output_type": "execute_result"
    }
   ],
   "source": [
    "#fetching the item from a touple by using negative indexing\n",
    "akash=[1,2,3,4,5,6,7,9,8]\n",
    "akash[-6]"
   ]
  },
  {
   "cell_type": "code",
   "execution_count": 17,
   "metadata": {},
   "outputs": [
    {
     "name": "stdout",
     "output_type": "stream",
     "text": [
      "('akashsharma', 1, 5.2, 'shubhamsharma', 5, 6.3)\n"
     ]
    },
    {
     "data": {
      "text/plain": [
       "('akashsharma', 1, 5.2)"
      ]
     },
     "execution_count": 17,
     "metadata": {},
     "output_type": "execute_result"
    }
   ],
   "source": [
    "#concatenstion in touple and printing data by applying limit\n",
    "akash=(\"akashsharma\",1,5.2)\n",
    "akash2=akash+(\"shubhamsharma\",5,6.3)\n",
    "print(akash2)\n",
    "akash[0:3]"
   ]
  },
  {
   "cell_type": "code",
   "execution_count": 19,
   "metadata": {},
   "outputs": [
    {
     "data": {
      "text/plain": [
       "6"
      ]
     },
     "execution_count": 19,
     "metadata": {},
     "output_type": "execute_result"
    }
   ],
   "source": [
    "#finding the length of a touple\n",
    "akash=(\"shubham\",2,2.87,\"akash\",5.9,5)\n",
    "len(akash)"
   ]
  },
  {
   "cell_type": "code",
   "execution_count": 44,
   "metadata": {},
   "outputs": [
    {
     "name": "stdout",
     "output_type": "stream",
     "text": [
      "(2, 9, 3, 6, 7, 2, 8, 1, 5)\n",
      "[1, 2, 2, 3, 5, 6, 7, 8, 9]\n"
     ]
    }
   ],
   "source": [
    "#sorting a touple\n",
    "akash=(2,9,3,6,7,2,8,1,5,)\n",
    "print(akash)\n",
    "akash1=sorted(akash)\n",
    "print(akash1)"
   ]
  },
  {
   "cell_type": "code",
   "execution_count": 27,
   "metadata": {},
   "outputs": [
    {
     "name": "stdout",
     "output_type": "stream",
     "text": [
      "(1, 2, ('akash', 'shubham'), (3, 4), ('sharma', (1, 2)))\n"
     ]
    }
   ],
   "source": [
    "#nested touple\n",
    "akash=(1,2,(\"akash\",\"shubham\"),(3,4),(\"sharma\",(1,2)))\n",
    "print(akash)"
   ]
  },
  {
   "cell_type": "code",
   "execution_count": 40,
   "metadata": {},
   "outputs": [
    {
     "data": {
      "text/plain": [
       "'shubham'"
      ]
     },
     "execution_count": 40,
     "metadata": {},
     "output_type": "execute_result"
    }
   ],
   "source": [
    "#fetching item of  nested touple\n",
    "akash=(1,2,(\"akash\",\"shubham\"),(3,4),(\"sharma\",(1,2)))\n",
    "akash[2][1]"
   ]
  },
  {
   "cell_type": "code",
   "execution_count": 55,
   "metadata": {},
   "outputs": [
    {
     "data": {
      "text/plain": [
       "'shubham'"
      ]
     },
     "execution_count": 55,
     "metadata": {},
     "output_type": "execute_result"
    }
   ],
   "source": [
    "#fetching the item of a list by indexing\n",
    "akash=[\"abha\",\"krishanakant\",2,6.6,[5,7],('akash','shubham')]\n",
    "akash[5][1]"
   ]
  },
  {
   "cell_type": "code",
   "execution_count": 41,
   "metadata": {},
   "outputs": [
    {
     "data": {
      "text/plain": [
       "7"
      ]
     },
     "execution_count": 41,
     "metadata": {},
     "output_type": "execute_result"
    }
   ],
   "source": [
    "#fetching the item of a list by negative indexing\n",
    "akash=[\"abha\",\"krishanakant\",2,6.6,[5,7],('akash','shubham')]\n",
    "akash[-2][1]"
   ]
  },
  {
   "cell_type": "code",
   "execution_count": 43,
   "metadata": {},
   "outputs": [
    {
     "data": {
      "text/plain": [
       "[2, 6.6, [5, 7]]"
      ]
     },
     "execution_count": 43,
     "metadata": {},
     "output_type": "execute_result"
    }
   ],
   "source": [
    "#printing the defined portion of a list\n",
    "akash=[\"abha\",\"krishanakant\",2,6.6,[5,7],('akash','shubham')]\n",
    "akash[2:5]"
   ]
  },
  {
   "cell_type": "code",
   "execution_count": 52,
   "metadata": {},
   "outputs": [
    {
     "name": "stdout",
     "output_type": "stream",
     "text": [
      "['abha', 'krishanakant', 2, 6.6, [5, 7], ('akash', 'shubham'), 'karanjit', 'sharanjeet']\n"
     ]
    }
   ],
   "source": [
    "#concatination of list\n",
    "akash=[\"abha\",\"krishanakant\",2,6.6,[5,7],('akash','shubham')]\n",
    "akash1=akash+[\"karanjit\",\"sharanjeet\"]\n",
    "print(akash1)"
   ]
  },
  {
   "cell_type": "code",
   "execution_count": 56,
   "metadata": {},
   "outputs": [
    {
     "name": "stdout",
     "output_type": "stream",
     "text": [
      "['akash', 'shubham', 'karan', 'sharan', 'kunal']\n"
     ]
    }
   ],
   "source": [
    "#adding new data in a list without using concatenation urf using .extend keyword\n",
    "akash=[\"akash\",\"shubham\",\"karan\"]\n",
    "akash.extend([\"sharan\",\"kunal\"])\n",
    "print(akash)"
   ]
  },
  {
   "cell_type": "code",
   "execution_count": 58,
   "metadata": {},
   "outputs": [
    {
     "name": "stdout",
     "output_type": "stream",
     "text": [
      "['akash', 'shubham', 'karan', ['sharan', 'kunal'], 'nidhi']\n"
     ]
    }
   ],
   "source": [
    "#adding nested list\n",
    "akash=[\"akash\",\"shubham\",\"karan\"]\n",
    "akash.append([\"sharan\",\"kunal\"])#nested list\n",
    "akash.append(\"nidhi\")\n",
    "print(akash)"
   ]
  },
  {
   "cell_type": "code",
   "execution_count": 59,
   "metadata": {},
   "outputs": [
    {
     "name": "stdout",
     "output_type": "stream",
     "text": [
      "['akash', 'shubham', 'abha']\n"
     ]
    }
   ],
   "source": [
    "#updating the element of a list using inexing\n",
    "akash=[\"akash\",\"shubham\",\"karan\"]\n",
    "akash[2]=\"abha\"\n",
    "print(akash)"
   ]
  },
  {
   "cell_type": "code",
   "execution_count": 60,
   "metadata": {},
   "outputs": [
    {
     "name": "stdout",
     "output_type": "stream",
     "text": [
      "['akash', 'shubham']\n"
     ]
    }
   ],
   "source": [
    "#deleting the element of a lsit using indexing\n",
    "akash=[\"akash\",\"shubham\",\"karan\"]\n",
    "del(akash[2])\n",
    "print(akash)"
   ]
  },
  {
   "cell_type": "code",
   "execution_count": 41,
   "metadata": {},
   "outputs": [
    {
     "name": "stdout",
     "output_type": "stream",
     "text": [
      "('akash', 'sharma', 'shubham', ['karan'])\n"
     ]
    }
   ],
   "source": [
    "#splitting a string into list\n",
    "akash=\"akash\",\"sharma\",\"shubham\",\"karan\".split()\n",
    "print(akash)"
   ]
  },
  {
   "cell_type": "code",
   "execution_count": 72,
   "metadata": {},
   "outputs": [
    {
     "name": "stdout",
     "output_type": "stream",
     "text": [
      "['shubham', 6, 6.3]\n",
      "['akash', 6, 6.3]\n"
     ]
    }
   ],
   "source": [
    "#cloning and updating the element of list\n",
    "akash=[\"akash\",6,6.3]\n",
    "akash1=akash[:]#cloning  of list akash into akash1 \n",
    "akash[0]=\"shubham\"#updating the item of the list\n",
    "print(akash)\n",
    "print(akash1)"
   ]
  },
  {
   "cell_type": "code",
   "execution_count": 38,
   "metadata": {},
   "outputs": [
    {
     "data": {
      "text/plain": [
       "['b', 'c']"
      ]
     },
     "execution_count": 38,
     "metadata": {},
     "output_type": "execute_result"
    }
   ],
   "source": [
    "#displaying the items of the list including condition \n",
    "b=[\"a\",\"b\",\"c\"]\n",
    "b[1:]#here we are skipping the first element and displaying rest elements\n",
    "\n"
   ]
  },
  {
   "cell_type": "code",
   "execution_count": 81,
   "metadata": {},
   "outputs": [
    {
     "name": "stdout",
     "output_type": "stream",
     "text": [
      "['baz', 'qux']\n"
     ]
    }
   ],
   "source": [
    "#displaying the items of the list including condition\n",
    "a = ['foo', 'bar', 'baz', 'qux', 'quux', 'corge']\n",
    "print(a[-4:-2])\n",
    "#print(a[-5:-3])\n",
    "#print(a[-6])"
   ]
  },
  {
   "cell_type": "code",
   "execution_count": 96,
   "metadata": {},
   "outputs": [
    {
     "data": {
      "text/plain": [
       "2"
      ]
     },
     "execution_count": 96,
     "metadata": {},
     "output_type": "execute_result"
    }
   ],
   "source": [
    "myList = [1,2,3,4,-2]\n",
    "\n",
    "##sum(myList) #sum of the list items\n",
    "##pow(2,3) #equivalent to 2**3\n",
    "abs(-2) #absolute value 3"
   ]
  },
  {
   "cell_type": "code",
   "execution_count": 97,
   "metadata": {},
   "outputs": [
    {
     "name": "stdout",
     "output_type": "stream",
     "text": [
      "[-20, 1, 2, 40.2, 289, 1000]\n",
      "[-20, 1, 2, 289, 1000]\n",
      "{'orange': 2, 'strawberry': 10}\n",
      "dict_values([2, 10])\n"
     ]
    }
   ],
   "source": [
    "myList = [1, 2, 1000, 289, 40.2, -20]\n",
    "myDict = {'apple': 4, 'orange': 2, 'strawberry':10}\n",
    "\n",
    "myList.sort() # sort and replace the list, not returning any value\n",
    "print(myList)\n",
    "\n",
    "myList.pop(3) #delete the 4 item\n",
    "print(myList) # -> -20, 1, 2, 289, 1000\n",
    "\n",
    "myDict.pop('apple')\n",
    "print(myDict) #delete the apple from myDIc dictionary\n",
    "\n",
    "mySecondList = myDict.values()\n",
    "print(mySecondList) #info about the dictionary"
   ]
  },
  {
   "cell_type": "code",
   "execution_count": 2,
   "metadata": {},
   "outputs": [
    {
     "name": "stdout",
     "output_type": "stream",
     "text": [
      "Help on list object:\n",
      "\n",
      "class list(object)\n",
      " |  list(iterable=(), /)\n",
      " |  \n",
      " |  Built-in mutable sequence.\n",
      " |  \n",
      " |  If no argument is given, the constructor creates a new empty list.\n",
      " |  The argument must be an iterable if specified.\n",
      " |  \n",
      " |  Methods defined here:\n",
      " |  \n",
      " |  __add__(self, value, /)\n",
      " |      Return self+value.\n",
      " |  \n",
      " |  __contains__(self, key, /)\n",
      " |      Return key in self.\n",
      " |  \n",
      " |  __delitem__(self, key, /)\n",
      " |      Delete self[key].\n",
      " |  \n",
      " |  __eq__(self, value, /)\n",
      " |      Return self==value.\n",
      " |  \n",
      " |  __ge__(self, value, /)\n",
      " |      Return self>=value.\n",
      " |  \n",
      " |  __getattribute__(self, name, /)\n",
      " |      Return getattr(self, name).\n",
      " |  \n",
      " |  __getitem__(...)\n",
      " |      x.__getitem__(y) <==> x[y]\n",
      " |  \n",
      " |  __gt__(self, value, /)\n",
      " |      Return self>value.\n",
      " |  \n",
      " |  __iadd__(self, value, /)\n",
      " |      Implement self+=value.\n",
      " |  \n",
      " |  __imul__(self, value, /)\n",
      " |      Implement self*=value.\n",
      " |  \n",
      " |  __init__(self, /, *args, **kwargs)\n",
      " |      Initialize self.  See help(type(self)) for accurate signature.\n",
      " |  \n",
      " |  __iter__(self, /)\n",
      " |      Implement iter(self).\n",
      " |  \n",
      " |  __le__(self, value, /)\n",
      " |      Return self<=value.\n",
      " |  \n",
      " |  __len__(self, /)\n",
      " |      Return len(self).\n",
      " |  \n",
      " |  __lt__(self, value, /)\n",
      " |      Return self<value.\n",
      " |  \n",
      " |  __mul__(self, value, /)\n",
      " |      Return self*value.\n",
      " |  \n",
      " |  __ne__(self, value, /)\n",
      " |      Return self!=value.\n",
      " |  \n",
      " |  __repr__(self, /)\n",
      " |      Return repr(self).\n",
      " |  \n",
      " |  __reversed__(self, /)\n",
      " |      Return a reverse iterator over the list.\n",
      " |  \n",
      " |  __rmul__(self, value, /)\n",
      " |      Return value*self.\n",
      " |  \n",
      " |  __setitem__(self, key, value, /)\n",
      " |      Set self[key] to value.\n",
      " |  \n",
      " |  __sizeof__(self, /)\n",
      " |      Return the size of the list in memory, in bytes.\n",
      " |  \n",
      " |  append(self, object, /)\n",
      " |      Append object to the end of the list.\n",
      " |  \n",
      " |  clear(self, /)\n",
      " |      Remove all items from list.\n",
      " |  \n",
      " |  copy(self, /)\n",
      " |      Return a shallow copy of the list.\n",
      " |  \n",
      " |  count(self, value, /)\n",
      " |      Return number of occurrences of value.\n",
      " |  \n",
      " |  extend(self, iterable, /)\n",
      " |      Extend list by appending elements from the iterable.\n",
      " |  \n",
      " |  index(self, value, start=0, stop=9223372036854775807, /)\n",
      " |      Return first index of value.\n",
      " |      \n",
      " |      Raises ValueError if the value is not present.\n",
      " |  \n",
      " |  insert(self, index, object, /)\n",
      " |      Insert object before index.\n",
      " |  \n",
      " |  pop(self, index=-1, /)\n",
      " |      Remove and return item at index (default last).\n",
      " |      \n",
      " |      Raises IndexError if list is empty or index is out of range.\n",
      " |  \n",
      " |  remove(self, value, /)\n",
      " |      Remove first occurrence of value.\n",
      " |      \n",
      " |      Raises ValueError if the value is not present.\n",
      " |  \n",
      " |  reverse(self, /)\n",
      " |      Reverse *IN PLACE*.\n",
      " |  \n",
      " |  sort(self, /, *, key=None, reverse=False)\n",
      " |      Stable sort *IN PLACE*.\n",
      " |  \n",
      " |  ----------------------------------------------------------------------\n",
      " |  Static methods defined here:\n",
      " |  \n",
      " |  __new__(*args, **kwargs) from builtins.type\n",
      " |      Create and return a new object.  See help(type) for accurate signature.\n",
      " |  \n",
      " |  ----------------------------------------------------------------------\n",
      " |  Data and other attributes defined here:\n",
      " |  \n",
      " |  __hash__ = None\n",
      "\n"
     ]
    }
   ],
   "source": [
    "akash=[\"akash\",\"shubham\",\"karan\"]\n",
    "help(akash)"
   ]
  },
  {
   "cell_type": "code",
   "execution_count": 7,
   "metadata": {},
   "outputs": [
    {
     "name": "stdout",
     "output_type": "stream",
     "text": [
      "{'shubham', 'raj', 'akash', 'kunal'}\n"
     ]
    }
   ],
   "source": [
    "#sets in python\\set always hold unique items\n",
    "akash={\"akash\",\"shubham\",\"raj\",\"kunal\",\"akash\"}\n",
    "print(akash)"
   ]
  },
  {
   "cell_type": "code",
   "execution_count": 3,
   "metadata": {},
   "outputs": [
    {
     "name": "stdout",
     "output_type": "stream",
     "text": [
      "{'sharan', 'rahul', 'shubham'}\n"
     ]
    }
   ],
   "source": [
    "#converting a list into set\n",
    "akash_list = [\"shubham\",\"sharan\",\"rahul\",\"shubham\"]\n",
    "akash1 = set(akash_list)\n",
    "print(akash1)"
   ]
  },
  {
   "cell_type": "code",
   "execution_count": 20,
   "metadata": {},
   "outputs": [
    {
     "data": {
      "text/plain": [
       "{'karan', 'kunal', 'raj', 'shubham'}"
      ]
     },
     "execution_count": 20,
     "metadata": {},
     "output_type": "execute_result"
    }
   ],
   "source": [
    "#adding new element in set\n",
    "akash={\"shubham\",\"raj\",\"karan\"}\n",
    "akash.add(\"kunal\")\n",
    "akash"
   ]
  },
  {
   "cell_type": "code",
   "execution_count": 21,
   "metadata": {},
   "outputs": [
    {
     "name": "stdout",
     "output_type": "stream",
     "text": [
      "{'shubham', 'karan', 'raj'}\n"
     ]
    }
   ],
   "source": [
    "#adding a exsisting element in set\n",
    "akash={\"shubham\",\"raj\",\"karan\"}\n",
    "akash.add(\"shubham\")\n",
    "print(akash)"
   ]
  },
  {
   "cell_type": "code",
   "execution_count": 14,
   "metadata": {},
   "outputs": [
    {
     "name": "stdout",
     "output_type": "stream",
     "text": [
      "{'karan', 'raj'}\n"
     ]
    }
   ],
   "source": [
    "#removing a element in set\n",
    "akash={\"shubham\",\"raj\",\"karan\"}\n",
    "akash.remove(\"shubham\")\n",
    "print(akash)"
   ]
  },
  {
   "cell_type": "code",
   "execution_count": 27,
   "metadata": {},
   "outputs": [
    {
     "data": {
      "text/plain": [
       "True"
      ]
     },
     "execution_count": 27,
     "metadata": {},
     "output_type": "execute_result"
    }
   ],
   "source": [
    "#checking the exsistence of the element in set\n",
    "\"shubham\" in akash"
   ]
  },
  {
   "cell_type": "code",
   "execution_count": 16,
   "metadata": {},
   "outputs": [
    {
     "data": {
      "text/plain": [
       "False"
      ]
     },
     "execution_count": 16,
     "metadata": {},
     "output_type": "execute_result"
    }
   ],
   "source": [
    "#checking the exsistence of the element in set\n",
    "akash={\"shubham\",\"raj\",\"karan\"}\n",
    "\"akash\" in akash"
   ]
  },
  {
   "cell_type": "code",
   "execution_count": 17,
   "metadata": {},
   "outputs": [
    {
     "data": {
      "text/plain": [
       "{'raj', 'shubham'}"
      ]
     },
     "execution_count": 17,
     "metadata": {},
     "output_type": "execute_result"
    }
   ],
   "source": [
    "#intersection in two sets //  finding the commom elements in the both sets + sorting\n",
    "akash={\"shubham\",\"raj\",\"akash\",\"harman\"}\n",
    "akash1={\"raj\",\"kunal\",\"shubham\",\"afroj\"}\n",
    "akash & akash1"
   ]
  },
  {
   "cell_type": "code",
   "execution_count": 18,
   "metadata": {},
   "outputs": [
    {
     "data": {
      "text/plain": [
       "{'afroj', 'akash', 'harman', 'kunal', 'raj', 'shubham'}"
      ]
     },
     "execution_count": 18,
     "metadata": {},
     "output_type": "execute_result"
    }
   ],
   "source": [
    "#union in two sets // joining all the elements of 2 sets without repeating + sorting \n",
    "akash={\"shubham\",\"raj\",\"akash\",\"harman\"}\n",
    "akash1={\"raj\",\"kunal\",\"shubham\",\"afroj\"}\n",
    "akash.union(akash1)"
   ]
  },
  {
   "cell_type": "code",
   "execution_count": 1,
   "metadata": {},
   "outputs": [
    {
     "data": {
      "text/plain": [
       "True"
      ]
     },
     "execution_count": 1,
     "metadata": {},
     "output_type": "execute_result"
    }
   ],
   "source": [
    "#checking the subset\n",
    "akash={1,2,3,4,5,6}\n",
    "akash1={4,5,6}\n",
    "akash1.issubset(akash)"
   ]
  },
  {
   "cell_type": "code",
   "execution_count": 34,
   "metadata": {},
   "outputs": [
    {
     "name": "stdout",
     "output_type": "stream",
     "text": [
      "{'akash': 1999, 'shubham': 2001}\n"
     ]
    }
   ],
   "source": [
    "#dictionary\n",
    "a={\"akash\":1999,\"shubham\":2001}\n",
    "print(a)"
   ]
  },
  {
   "cell_type": "code",
   "execution_count": 5,
   "metadata": {},
   "outputs": [
    {
     "name": "stdout",
     "output_type": "stream",
     "text": [
      "1999\n"
     ]
    }
   ],
   "source": [
    "# acessing elements of dictionary using key\n",
    "a={\"akash\":1999,\"shubham\":2001}\n",
    "print(a[\"akash\"])"
   ]
  },
  {
   "cell_type": "code",
   "execution_count": 39,
   "metadata": {},
   "outputs": [
    {
     "name": "stdout",
     "output_type": "stream",
     "text": [
      "{'akash': 1999, 'shubham': 2000, 'abha': 1976}\n",
      "1999\n"
     ]
    }
   ],
   "source": [
    "#declaring key as variable for safety purpose and accessing the item\n",
    "a=\"akash\"\n",
    "b= \"shubham\"\n",
    "c=\"abha\";\n",
    "x={a:1999,b:2000,c:1976}\n",
    "print(x)\n",
    "print(x[a])"
   ]
  },
  {
   "cell_type": "code",
   "execution_count": 41,
   "metadata": {},
   "outputs": [
    {
     "name": "stdout",
     "output_type": "stream",
     "text": [
      "{1: 'akash', 2: 'shubham'}\n",
      "akash\n"
     ]
    }
   ],
   "source": [
    "#empty string and then adding the values+ acessing the values//integers can also be used as key in dictionary\n",
    "a={}\n",
    "a[1]=\"akash\"\n",
    "a[2]=\"shubham\"\n",
    "print(a)\n",
    "print(a[1])"
   ]
  },
  {
   "cell_type": "code",
   "execution_count": 48,
   "metadata": {},
   "outputs": [
    {
     "name": "stdout",
     "output_type": "stream",
     "text": [
      "{1: 'akash', 2: 'shubham'}\n",
      "2\n",
      "akash\n",
      "{2: 'shubham'}\n"
     ]
    }
   ],
   "source": [
    "#empty string and then adding the values+ acessing the element+deleting the particular element+length of the dictionary\n",
    "a={}\n",
    "a[1]=\"akash\"\n",
    "a[2]=\"shubham\"\n",
    "print(a)\n",
    "print(len(a))\n",
    "print(a[1])\n",
    "a.pop(1)\n",
    "print(a)"
   ]
  },
  {
   "cell_type": "code",
   "execution_count": 40,
   "metadata": {},
   "outputs": [
    {
     "name": "stdout",
     "output_type": "stream",
     "text": [
      "{1: 'akash', 2: 'shubham', 3: 'abha', 4: 'krishna'}\n"
     ]
    },
    {
     "data": {
      "text/plain": [
       "dict_values(['akash', 'shubham', 'abha', 'krishna'])"
      ]
     },
     "execution_count": 40,
     "metadata": {},
     "output_type": "execute_result"
    }
   ],
   "source": [
    "#checkin the exsistence of a key+displaying all the keys+displaying all the values in dictionary\n",
    "a={}\n",
    "a[1]=\"akash\"\n",
    "a[2]=\"shubham\"\n",
    "a[3]=\"abha\"\n",
    "a[4]=\"krishna\"\n",
    "print(a)\n",
    "1 in a\n",
    "a.keys()\n",
    "a.values()"
   ]
  },
  {
   "cell_type": "code",
   "execution_count": 51,
   "metadata": {},
   "outputs": [
    {
     "name": "stdout",
     "output_type": "stream",
     "text": [
      "dict_values([2, 18])\n"
     ]
    }
   ],
   "source": [
    "myDict = {'George': 4, 'Jean': 2, 'Paul': 10, 'Andrew': 18, 'Jacob': 8}\n",
    "toRemove = ['George', 'Paul', 'Jacob']\n",
    "for i in toRemove:\n",
    "    myDict.pop(i)\n",
    "\n",
    "print(myDict.values())"
   ]
  },
  {
   "cell_type": "code",
   "execution_count": 2,
   "metadata": {},
   "outputs": [
    {
     "name": "stdout",
     "output_type": "stream",
     "text": [
      "['Red', 'Green', 'Yellow']\n"
     ]
    }
   ],
   "source": [
    "#adding elements id dictionary using append method\n",
    "colors = []\n",
    "colors.append('Red')\n",
    "colors.append('Green')\n",
    "colors.append('Yellow')\n",
    "print(colors)"
   ]
  },
  {
   "cell_type": "code",
   "execution_count": 15,
   "metadata": {},
   "outputs": [
    {
     "name": "stdout",
     "output_type": "stream",
     "text": [
      "array('i', [1, 6, 9, 3, 4, 6, 5])\n",
      "array('d', [1.0, 6.0, 9.0, 3.0, 4.0, 6.0, 5.6])\n",
      "array('i', [-1, 2, 9, 6, 3, 6])\n"
     ]
    }
   ],
   "source": [
    "#creating an array\n",
    "from array import *\n",
    "a=array('i',[1,6,9,3,4,6,5])\n",
    "b=array('d',[1,6,9,3,4,6,5.6])\n",
    "c=array('i',[-1,2,9,6,3,6])\n",
    "#d=array('u',[\"shubham\",\"abha\",\"krishna\"])\n",
    "print(a)\n",
    "print(b)\n",
    "print(c)\n",
    "#print(d)"
   ]
  },
  {
   "cell_type": "code",
   "execution_count": 15,
   "metadata": {},
   "outputs": [
    {
     "data": {
      "text/plain": [
       "20"
      ]
     },
     "execution_count": 15,
     "metadata": {},
     "output_type": "execute_result"
    }
   ],
   "source": [
    "#numpy library\n",
    "import numpy as np\n",
    "\n",
    "myNotes = np.array([0, 5, 10, 15, 20])\n",
    "#myNotes.mean()\n",
    "#myNotes[1]\n",
    "#myNotes.sum()/5\n",
    "myNotes.max()"
   ]
  },
  {
   "cell_type": "code",
   "execution_count": 24,
   "metadata": {},
   "outputs": [
    {
     "name": "stdout",
     "output_type": "stream",
     "text": [
      "[50  5 10 15 20]\n",
      "[ 5 10 15]\n",
      "[1 2 3]\n"
     ]
    }
   ],
   "source": [
    "# updating the item in array ussing indexing\n",
    "import numpy as np\n",
    "a = np.array([0, 5, 10, 15, 20])\n",
    "a[0]=50\n",
    "print(a)\n",
    "b=a[1:4]\n",
    "print(b)\n",
    "b[0:3]=1,2,3\n",
    "print(b)"
   ]
  },
  {
   "cell_type": "code",
   "execution_count": 8,
   "metadata": {},
   "outputs": [
    {
     "name": "stdout",
     "output_type": "stream",
     "text": [
      "Enter the size of the array:2\n",
      "Enter the next element:5\n",
      "Enter the next element:6\n",
      "array('i', [5, 6])\n"
     ]
    }
   ],
   "source": [
    "#creating an array as per user's desire\n",
    "from array import *\n",
    "a=array('i',[])\n",
    "n=int(input(\"Enter the size of the array:\"))\n",
    "for i in range (n):\n",
    "    x=int(input(\"Enter the next element:\"))\n",
    "    a.append(x)\n",
    "print(a)"
   ]
  },
  {
   "cell_type": "code",
   "execution_count": 28,
   "metadata": {},
   "outputs": [
    {
     "name": "stdout",
     "output_type": "stream",
     "text": [
      "Enter the size of the array:5\n",
      "Enter the next element:9\n",
      "Enter the next element:5\n",
      "Enter the next element:6\n",
      "Enter the next element:8\n",
      "Enter the next element:2\n",
      "array('i', [9, 5, 6, 8, 2])\n",
      "Enter the item6\n",
      "2\n",
      "2\n"
     ]
    }
   ],
   "source": [
    "#creating an array as per user's desire + find the index of the entred array item\n",
    "from array import *\n",
    "a=array('i',[])\n",
    "n=int(input(\"Enter the size of the array:\"))\n",
    "for i in range(n):\n",
    "    x=int(input(\"Enter the next element:\"))\n",
    "    a.append(x)\n",
    "print(a)\n",
    "val=int(input(\"Enter the item\"))\n",
    "k=0\n",
    "for y in a:\n",
    "        if y==val:\n",
    "            print(k)#using mannualy\n",
    "            break\n",
    "        k+=1        \n",
    "print(a.index(val))#using function"
   ]
  },
  {
   "cell_type": "code",
   "execution_count": 5,
   "metadata": {},
   "outputs": [
    {
     "name": "stdout",
     "output_type": "stream",
     "text": [
      "['akash' 'shubham' 'raj']\n"
     ]
    }
   ],
   "source": [
    "#converting a list into array\n",
    "import numpy as np\n",
    "a=(\"akash\",\"shubham\",\"raj\")\n",
    "b=np.array(a)\n",
    "print(b)"
   ]
  },
  {
   "cell_type": "code",
   "execution_count": 37,
   "metadata": {},
   "outputs": [
    {
     "name": "stdout",
     "output_type": "stream",
     "text": [
      "[[1 2 3]\n",
      " [4 5 6]]\n"
     ]
    },
    {
     "data": {
      "text/plain": [
       "6"
      ]
     },
     "execution_count": 37,
     "metadata": {},
     "output_type": "execute_result"
    }
   ],
   "source": [
    "#2D array and modules\n",
    "from numpy import *\n",
    "a=array([\n",
    "              [1,2,3],\n",
    "              [4,5,6]\n",
    "        ])\n",
    "print(a)\n",
    "a.ndim # .ndim displays the dimensions of the array\n",
    "a.shape # .shape displays the shape nummer or rows and columns of the array\n",
    "a.size  # .size displays the total number of the items  in the entire array"
   ]
  },
  {
   "cell_type": "code",
   "execution_count": 41,
   "metadata": {},
   "outputs": [
    {
     "data": {
      "text/plain": [
       "array([3, 6])"
      ]
     },
     "execution_count": 41,
     "metadata": {},
     "output_type": "execute_result"
    }
   ],
   "source": [
    "#2D array andslicing the array \n",
    "from numpy import *\n",
    "a=array([\n",
    "              [1,2,3],\n",
    "              [4,5,6],\n",
    "              [7,8,9]\n",
    "        ])\n",
    "#print(a)\n",
    "a[0:2,2]"
   ]
  },
  {
   "cell_type": "code",
   "execution_count": 42,
   "metadata": {},
   "outputs": [
    {
     "data": {
      "text/plain": [
       "9"
      ]
     },
     "execution_count": 42,
     "metadata": {},
     "output_type": "execute_result"
    }
   ],
   "source": [
    "#2D array+  acessing the items using indexing\n",
    "from numpy import *\n",
    "a=array([\n",
    "              [1,2,3],\n",
    "              [4,5,6],\n",
    "              [7,8,9]\n",
    "        ])\n",
    "#print(a)\n",
    "a[2][2]"
   ]
  },
  {
   "cell_type": "code",
   "execution_count": 28,
   "metadata": {},
   "outputs": [
    {
     "name": "stdout",
     "output_type": "stream",
     "text": [
      "[[7 7 7]\n",
      " [7 7 7]]\n"
     ]
    }
   ],
   "source": [
    "#adding 2D array into a single 2D array\n",
    "import numpy as np\n",
    "a=np.array([\n",
    "              [1,2,3],\n",
    "              [4,5,6]\n",
    "        ])\n",
    "#print(a)\n",
    "b=np.array([\n",
    "              [6,5,4],\n",
    "              [3,2,1]\n",
    "        ])\n",
    "#print(b)\n",
    "c=a+b\n",
    "print(c)"
   ]
  },
  {
   "cell_type": "code",
   "execution_count": 29,
   "metadata": {},
   "outputs": [
    {
     "name": "stdout",
     "output_type": "stream",
     "text": [
      "[[-5 -3 -1]\n",
      " [ 1  3  5]]\n"
     ]
    }
   ],
   "source": [
    "#subtracting b/w 2,2D arrays\n",
    "import numpy as np\n",
    "a=np.array([\n",
    "              [1,2,3],\n",
    "              [4,5,6]\n",
    "        ])\n",
    "#print(a)\n",
    "b=np.array([\n",
    "              [6,5,4],\n",
    "              [3,2,1]\n",
    "        ])\n",
    "#print(b)\n",
    "c=a-b\n",
    "print(c)"
   ]
  },
  {
   "cell_type": "code",
   "execution_count": 30,
   "metadata": {},
   "outputs": [
    {
     "name": "stdout",
     "output_type": "stream",
     "text": [
      "[[ 6 10 12]\n",
      " [12 10  6]]\n"
     ]
    }
   ],
   "source": [
    "#multilpication b/w 2,2D arrays\n",
    "import numpy as np\n",
    "a=np.array([\n",
    "              [1,2,3],\n",
    "              [4,5,6]\n",
    "        ])\n",
    "#print(a)\n",
    "b=np.array([\n",
    "              [6,5,4],\n",
    "              [3,2,1]\n",
    "        ])\n",
    "#print(b)\n",
    "c=a*b\n",
    "print(c)"
   ]
  },
  {
   "cell_type": "code",
   "execution_count": 44,
   "metadata": {},
   "outputs": [
    {
     "name": "stdout",
     "output_type": "stream",
     "text": [
      "[[22 28]\n",
      " [49 64]]\n"
     ]
    }
   ],
   "source": [
    "# dot product of two different type of matrix\n",
    "import numpy as np\n",
    "a=np.array([[1,2,3],[4,5,6]])\n",
    "b=np.array([[1,2],[3,4],[5,6]])\n",
    "c=np.dot(a,b);\n",
    "print(c)"
   ]
  },
  {
   "cell_type": "code",
   "execution_count": 31,
   "metadata": {},
   "outputs": [
    {
     "name": "stdout",
     "output_type": "stream",
     "text": [
      "28\n"
     ]
    }
   ],
   "source": [
    "# dot product of two arryas\n",
    "import numpy as np\n",
    "a=np.array([1,2,3])\n",
    "b=np.array([6,5,4])\n",
    "c=np.dot(a,b)\n",
    "print(c)"
   ]
  },
  {
   "cell_type": "code",
   "execution_count": 32,
   "metadata": {},
   "outputs": [
    {
     "name": "stdout",
     "output_type": "stream",
     "text": [
      "[2 3 4]\n"
     ]
    }
   ],
   "source": [
    "#broadcasting in array\n",
    "import numpy as np\n",
    "a=np.array([1,2,3])\n",
    "c=a+1\n",
    "print(c)"
   ]
  },
  {
   "cell_type": "code",
   "execution_count": 33,
   "metadata": {},
   "outputs": [
    {
     "name": "stdout",
     "output_type": "stream",
     "text": [
      "[8.41470985e-01 1.00000000e+00 1.22464680e-16]\n"
     ]
    }
   ],
   "source": [
    "#using sin function and pie function in numpy\n",
    "import numpy as np\n",
    "np.pi\n",
    "a=np.array([1,np.pi/2,np.pi])\n",
    "b=np.sin(a)\n",
    "print(b)"
   ]
  },
  {
   "cell_type": "code",
   "execution_count": 36,
   "metadata": {},
   "outputs": [
    {
     "data": {
      "text/plain": [
       "[<matplotlib.lines.Line2D at 0x20585bde7c8>]"
      ]
     },
     "execution_count": 36,
     "metadata": {},
     "output_type": "execute_result"
    },
    {
     "data": {
      "image/png": "[encoded data removed]",
      "text/plain": [
       "<Figure size 432x288 with 1 Axes>"
      ]
     },
     "metadata": {
      "needs_background": "light"
     },
     "output_type": "display_data"
    }
   ],
   "source": [
    "#grapgh plot\n",
    "import numpy as np\n",
    "np.pi\n",
    "a=np.linspace(1,np.pi*2,100)\n",
    "#b=np.sin(a)\n",
    "b=a*5\n",
    "import matplotlib.pyplot as plt\n",
    "%matplotlib inline\n",
    "plt.plot(a,b)"
   ]
  },
  {
   "cell_type": "code",
   "execution_count": 38,
   "metadata": {},
   "outputs": [
    {
     "data": {
      "text/plain": [
       "0"
      ]
     },
     "execution_count": 38,
     "metadata": {},
     "output_type": "execute_result"
    }
   ],
   "source": [
    "import numpy as np\n",
    "#np.array([1,-1])*np.array([1,1])\n",
    "np.dot(np.array([1,-1]),np.array([1,1]))"
   ]
  },
  {
   "cell_type": "code",
   "execution_count": 34,
   "metadata": {},
   "outputs": [
    {
     "name": "stdout",
     "output_type": "stream",
     "text": [
      "[[1 2 3]\n",
      " [4 5 6]]\n",
      "[1 2 3 4 5 6]\n"
     ]
    }
   ],
   "source": [
    "# converting Multidimensional array into 1D array\n",
    "from numpy import *\n",
    "a=array([\n",
    "              [1,2,3],\n",
    "              [4,5,6]\n",
    "        ])\n",
    "print(a)\n",
    "b=a.flatten()\n",
    "print(b)"
   ]
  },
  {
   "cell_type": "code",
   "execution_count": 33,
   "metadata": {},
   "outputs": [
    {
     "name": "stdout",
     "output_type": "stream",
     "text": [
      "[[1 2 3 4]\n",
      " [5 6 5 4]\n",
      " [3 2 1 0]]\n"
     ]
    }
   ],
   "source": [
    "# converting 1D array into Multidimensional array \n",
    "from numpy import *\n",
    "a=array([1,2,3,4,5,6,5,4,3,2,1,0])\n",
    "#print(a)\n",
    "b=a.reshape(3,4)# can define the number of rows and column of array\n",
    "print(b)"
   ]
  },
  {
   "cell_type": "code",
   "execution_count": 31,
   "metadata": {},
   "outputs": [
    {
     "name": "stdout",
     "output_type": "stream",
     "text": [
      "Enter the number of Mommos you want to eat🥟❓:96\n",
      "Take your Mommo🥟✔\n",
      "Take your Mommo🥟✔\n",
      "Take your Mommo🥟✔\n",
      "Take your Mommo🥟✔\n",
      "Take your Mommo🥟✔\n",
      "Take your Mommo🥟✔\n",
      "Take your Mommo🥟✔\n",
      "Take your Mommo🥟✔\n",
      "Take your Mommo🥟✔\n",
      "Take your Mommo🥟✔\n",
      "Take your Mommo🥟✔\n",
      "Take your Mommo🥟✔\n",
      "Take your Mommo🥟✔\n",
      "Take your Mommo🥟✔\n",
      "Take your Mommo🥟✔\n",
      "Take your Mommo🥟✔\n",
      "Take your Mommo🥟✔\n",
      "Take your Mommo🥟✔\n",
      "Take your Mommo🥟✔\n",
      "Take your Mommo🥟✔\n",
      "Ohh! F✳✳✳ Mommos are Finish😥\n"
     ]
    }
   ],
   "source": [
    "#while loop\n",
    "stock=20\n",
    "x=int(input(\"Enter the number of Mommos you want to eat🥟❓:\"))\n",
    "i=1\n",
    "while i<=x:\n",
    "    if i>stock:\n",
    "        print(\"Ohh! F✳✳✳ Mommos are Finish😥\")\n",
    "        break\n",
    "    print(\"Take your Mommo🥟✔\")\n",
    "    i=i+1\n",
    "    "
   ]
  },
  {
   "cell_type": "code",
   "execution_count": 36,
   "metadata": {},
   "outputs": [
    {
     "name": "stdout",
     "output_type": "stream",
     "text": [
      "0\n",
      "9\n",
      "18\n",
      "27\n",
      "36\n",
      "45\n",
      "54\n"
     ]
    }
   ],
   "source": [
    "# for loop applicable only in integer type\n",
    "for i in range(0,55,9):\n",
    "    print(i)"
   ]
  },
  {
   "cell_type": "code",
   "execution_count": 1,
   "metadata": {},
   "outputs": [
    {
     "name": "stdout",
     "output_type": "stream",
     "text": [
      "E\n",
      "l\n",
      "e\n",
      "m\n",
      "e\n",
      "n\n",
      "t\n",
      "s\n"
     ]
    }
   ],
   "source": [
    "myString = \"Elements\"\n",
    "\n",
    "for i in myString:\n",
    "    print(i)"
   ]
  },
  {
   "cell_type": "code",
   "execution_count": 35,
   "metadata": {},
   "outputs": [],
   "source": [
    "# statements executed for each iteration\n",
    "a=(1,2,3,4,5,6,7,8,9)\n",
    "for i in a:\n",
    "    if i == 2 and i == 5:\n",
    "        print(a)\n",
    "        continue \n",
    "        \n",
    "    # statements not executed when i == 2 or 5} \n",
    "  "
   ]
  },
  {
   "cell_type": "code",
   "execution_count": 88,
   "metadata": {},
   "outputs": [
    {
     "name": "stdout",
     "output_type": "stream",
     "text": [
      "I have an orange !\n"
     ]
    }
   ],
   "source": [
    "#break statment\n",
    "basket = [\"apple\", \"orange\", \"banana\"]\n",
    "\n",
    "for fruit in basket:\n",
    "    if fruit == \"orange\":\n",
    "        print(\"I have an\", fruit, \"!\")\n",
    "        break"
   ]
  },
  {
   "cell_type": "code",
   "execution_count": 5,
   "metadata": {},
   "outputs": [
    {
     "name": "stdout",
     "output_type": "stream",
     "text": [
      "['raj', 'shubham', 'karan', 'kunal']\n"
     ]
    }
   ],
   "source": [
    "#replacing the item in a list using for loop\n",
    "a=[\"akash\",\"shubham\",\"karan\",\"kunal\"]\n",
    "for i in range(0,4):\n",
    "        a[0]=\"raj\"\n",
    "print(a)        "
   ]
  },
  {
   "cell_type": "code",
   "execution_count": 102,
   "metadata": {},
   "outputs": [
    {
     "name": "stdout",
     "output_type": "stream",
     "text": [
      "2.718281828459045\n"
     ]
    }
   ],
   "source": [
    "from math import e\n",
    "print(e)"
   ]
  },
  {
   "cell_type": "code",
   "execution_count": 12,
   "metadata": {},
   "outputs": [
    {
     "name": "stdout",
     "output_type": "stream",
     "text": [
      "2.718281828459045\n"
     ]
    }
   ],
   "source": [
    "print(e)"
   ]
  },
  {
   "cell_type": "code",
   "execution_count": 17,
   "metadata": {},
   "outputs": [
    {
     "name": "stdout",
     "output_type": "stream",
     "text": [
      "name=akash sharma\n",
      "e-mail id=qqqakash@gmail.com\n",
      "mobile number=8847563677\n",
      "address=thapar colony jct mill phagwara room number ih=38\n",
      "father's name=krishana kant sharma\n",
      "mother's name=abha sharma\n",
      "sibling's name=shubham sharma\n",
      "qualification=curently pursuing bachelars in technology in computer science from gna university\n",
      "senior secondry from t.w.e.i.sr.sec school \n",
      "matriculation from t.w.e.i.sr.sec school\n",
      "True\n",
      "name=akash sharma\n",
      "e-mail id=qqqakash@gmail.com\n",
      "mobile number=8847563677\n",
      "address=thapar colony jct mill phagwara room number ih=38\n",
      "father's name=krishana kant sharma\n",
      "mother's name=abha sharma\n",
      "sibling's name=shubham sharma\n",
      "qualification=curently pursuing bachelars in technology in computer science from gna university\n",
      "senior secondry from t.w.e.i.sr.sec school \n",
      "matriculation from t.w.e.i.sr.sec school\n"
     ]
    }
   ],
   "source": [
    "with open(\"intro.txt\",\"r\") as File1:\n",
    "    filestuff=File1.read()\n",
    "    print(filestuff)\n",
    "print(File1.closed)\n",
    "print(filestuff)"
   ]
  },
  {
   "cell_type": "code",
   "execution_count": 18,
   "metadata": {},
   "outputs": [
    {
     "name": "stdout",
     "output_type": "stream",
     "text": [
      "['name=akash sharma\\n', 'e-mail id=qqqakash@gmail.com\\n', 'mobile number=8847563677\\n', 'address=thapar colony jct mill phagwara room number ih=38\\n', \"father's name=krishana kant sharma\\n\", \"mother's name=abha sharma\\n\", \"sibling's name=shubham sharma\\n\", 'qualification=curently pursuing bachelars in technology in computer science from gna university\\n', 'senior secondry from t.w.e.i.sr.sec school \\n', 'matriculation from t.w.e.i.sr.sec school']\n"
     ]
    }
   ],
   "source": [
    "#reading all the lines of a txt file\n",
    "with open(\"intro.txt\",\"r\") as File1:\n",
    "    filestuff=File1.readlines()\n",
    "    print(filestuff)"
   ]
  },
  {
   "cell_type": "code",
   "execution_count": 19,
   "metadata": {},
   "outputs": [
    {
     "name": "stdout",
     "output_type": "stream",
     "text": [
      "name=akash sharma\n",
      "\n",
      "e-mail id=qqqakash@gmail.com\n",
      "\n"
     ]
    }
   ],
   "source": [
    "##reading a line of a txt file\n",
    "with open(\"intro.txt\",\"r\") as File1:\n",
    "    filestuff=File1.readline()\n",
    "    print(filestuff)\n",
    "    filestuff=File1.readline()\n",
    "    print(filestuff)"
   ]
  },
  {
   "cell_type": "code",
   "execution_count": 2,
   "metadata": {},
   "outputs": [
    {
     "name": "stdout",
     "output_type": "stream",
     "text": [
      "name=akash sharma\n"
     ]
    }
   ],
   "source": [
    "#reading a line untill it breaks\n",
    "with open(\"intro.txt\",\"r\") as File1:\n",
    "    filestuff=File1.readline().strip()\n",
    "    print(filestuff)"
   ]
  },
  {
   "cell_type": "code",
   "execution_count": 21,
   "metadata": {},
   "outputs": [
    {
     "name": "stdout",
     "output_type": "stream",
     "text": [
      "['name=akash sharma\\n']\n"
     ]
    }
   ],
   "source": [
    "#reading lines by defindig the number of lines\n",
    "with open(\"intro.txt\",\"r\") as File1:\n",
    "    filestuff=File1.readlines(5)\n",
    "    print(filestuff)"
   ]
  },
  {
   "cell_type": "code",
   "execution_count": 21,
   "metadata": {},
   "outputs": [
    {
     "name": "stdout",
     "output_type": "stream",
     "text": [
      "name=akash sharma\n",
      "\n",
      "e-mail id=qqqakash@gmail.com\n",
      "\n",
      "mobile number=8847563677\n",
      "\n",
      "address=thapar colony jct mill phagwara room number ih=38\n",
      "\n",
      "father's name=krishana kant sharma\n",
      "\n",
      "mother's name=abha sharma\n",
      "\n",
      "sibling's name=shubham sharma\n",
      "\n",
      "qualification=curently pursuing bachelars in technology in computer science from gna university\n",
      "\n",
      "senior secondry from t.w.e.i.sr.sec school \n",
      "\n",
      "matriculation from t.w.e.i.sr.sec school\n"
     ]
    }
   ],
   "source": [
    "#reading all the tesxt of a txt file line by line using loop statement \n",
    "with open(\"intro.txt\",\"r\") as File1:\n",
    "    for a in(File1):\n",
    "        print(a)\n",
    "    "
   ]
  },
  {
   "cell_type": "code",
   "execution_count": 27,
   "metadata": {},
   "outputs": [
    {
     "name": "stdout",
     "output_type": "stream",
     "text": [
      "['My self Akash Sharma\\n', 'and i am from Phagwara']\n"
     ]
    }
   ],
   "source": [
    "#writting a txt file\n",
    "with open(\"intro1.txt\",\"w\") as File1:\n",
    "    File1.write(\"My self Akash Sharma\\n\")\n",
    "    File1.write(\"and i am from Phagwara\")\n",
    "with open(\"intro1.txt\",\"r\") as File1:    \n",
    "    filestuff=File1.readlines()\n",
    "    print(filestuff)"
   ]
  },
  {
   "cell_type": "code",
   "execution_count": 30,
   "metadata": {},
   "outputs": [
    {
     "name": "stdout",
     "output_type": "stream",
     "text": [
      "['akash\\n', 'shubham\\n', 'abha\\n', 'krishana\\n']\n"
     ]
    }
   ],
   "source": [
    "#writting a txt file line by line\n",
    "a=[\"akash\\n\",\"shubham\\n\",\"abha\\n\",\"krishana\\n\"]\n",
    "with open(\"list.txt\",\"w\") as File1:\n",
    "    for b in a:\n",
    "        File1.write(b)\n",
    "with open(\"list.txt\",\"r\") as File1:    \n",
    "    filestuff=File1.readlines()\n",
    "    print(filestuff)        "
   ]
  },
  {
   "cell_type": "code",
   "execution_count": 31,
   "metadata": {},
   "outputs": [
    {
     "name": "stdout",
     "output_type": "stream",
     "text": [
      "['My self Akash Sharma\\n', 'and i am from Phagwara\\n', 'I study in GNA University']\n"
     ]
    }
   ],
   "source": [
    "#writting line in a file using append methode//updating a txt file\n",
    "with open(\"intro1.txt\",\"a\") as File1:\n",
    "    File1.write(\"\\nI study in GNA University\")\n",
    "with open(\"intro1.txt\",\"r\") as File1:    \n",
    "    filestuff=File1.readlines()\n",
    "    print(filestuff)    "
   ]
  },
  {
   "cell_type": "code",
   "execution_count": 40,
   "metadata": {},
   "outputs": [
    {
     "name": "stdout",
     "output_type": "stream",
     "text": [
      "Hello\n",
      "Hlo \n",
      "Helllooo\n",
      "Namaste\n",
      "\n"
     ]
    }
   ],
   "source": [
    "#copping the content of a file and writting the same content in onther file\n",
    "with open(\"read.txt\",\"r\") as readfile:\n",
    "    with open(\"write.txt\",\"w\") as writefile:\n",
    "        for a in readfile:\n",
    "            writefile.write(a)\n",
    "with open(\"write.txt\",\"r\") as writefile:\n",
    "    filestuff=writefile.read()\n",
    "    print(filestuff)"
   ]
  },
  {
   "cell_type": "code",
   "execution_count": 51,
   "metadata": {},
   "outputs": [
    {
     "data": {
      "text/html": [
       "<div>\n",
       "<style scoped>\n",
       "    .dataframe tbody tr th:only-of-type {\n",
       "        vertical-align: middle;\n",
       "    }\n",
       "\n",
       "    .dataframe tbody tr th {\n",
       "        vertical-align: top;\n",
       "    }\n",
       "\n",
       "    .dataframe thead th {\n",
       "        text-align: right;\n",
       "    }\n",
       "</style>\n",
       "<table border=\"1\" class=\"dataframe\">\n",
       "  <thead>\n",
       "    <tr style=\"text-align: right;\">\n",
       "      <th></th>\n",
       "      <th>Comment</th>\n",
       "      <th>AuthorDisplayName</th>\n",
       "      <th>AuthorProfileImageUrl</th>\n",
       "      <th>AuthorChannelUrl</th>\n",
       "      <th>AuthorChannelID</th>\n",
       "      <th>ReplyCount</th>\n",
       "      <th>LikeCount</th>\n",
       "    </tr>\n",
       "  </thead>\n",
       "  <tbody>\n",
       "    <tr>\n",
       "      <td>0</td>\n",
       "      <td>Kon kon ye song ko February me sun rha h</td>\n",
       "      <td>Altamash Altamash</td>\n",
       "      <td>https://yt3.ggpht.com/a/AGF-l7_R5RnLa20s3OJlgs...</td>\n",
       "      <td>http://www.youtube.com/channel/UCcZ3vRT1wr34Bu...</td>\n",
       "      <td>UCcZ3vRT1wr34Buwke3vfIvw</td>\n",
       "      <td>0</td>\n",
       "      <td>1</td>\n",
       "    </tr>\n",
       "    <tr>\n",
       "      <td>1</td>\n",
       "      <td>Hi</td>\n",
       "      <td>Sandeep Kumar pitaunjhia</td>\n",
       "      <td>https://yt3.ggpht.com/a/AGF-l7_PCuPRZjJqIkF3lW...</td>\n",
       "      <td>http://www.youtube.com/channel/UCx0tTMQwPpV1KB...</td>\n",
       "      <td>UCx0tTMQwPpV1KB8QghL1ZmA</td>\n",
       "      <td>0</td>\n",
       "      <td>0</td>\n",
       "    </tr>\n",
       "    <tr>\n",
       "      <td>2</td>\n",
       "      <td>Very lovely</td>\n",
       "      <td>Jannat Jannat</td>\n",
       "      <td>https://yt3.ggpht.com/a/AGF-l78deyjFqPR1ikjIWa...</td>\n",
       "      <td>http://www.youtube.com/channel/UCQE2oExMTF2Zpw...</td>\n",
       "      <td>UCQE2oExMTF2ZpwzRFoeo83Q</td>\n",
       "      <td>0</td>\n",
       "      <td>0</td>\n",
       "    </tr>\n",
       "    <tr>\n",
       "      <td>3</td>\n",
       "      <td>Nice song iam Bangladesh</td>\n",
       "      <td>md Robul Islam</td>\n",
       "      <td>https://yt3.ggpht.com/a/AGF-l78D3igTCIza4OEAKl...</td>\n",
       "      <td>http://www.youtube.com/channel/UCRodCdD_b59Vhk...</td>\n",
       "      <td>UCRodCdD_b59VhkdI7SO22fw</td>\n",
       "      <td>0</td>\n",
       "      <td>1</td>\n",
       "    </tr>\n",
       "    <tr>\n",
       "      <td>4</td>\n",
       "      <td>Surt to dekhne ke ley hoti hai jnab \\r\\nBut re...</td>\n",
       "      <td>Monu Ansari</td>\n",
       "      <td>https://yt3.ggpht.com/a/AGF-l7_4-SsWTdQiL1IY16...</td>\n",
       "      <td>http://www.youtube.com/channel/UCDG7BtkGJVFVig...</td>\n",
       "      <td>UCDG7BtkGJVFVigH3-D6LAwg</td>\n",
       "      <td>0</td>\n",
       "      <td>0</td>\n",
       "    </tr>\n",
       "  </tbody>\n",
       "</table>\n",
       "</div>"
      ],
      "text/plain": [
       "                                             Comment  \\\n",
       "0           Kon kon ye song ko February me sun rha h   \n",
       "1                                                 Hi   \n",
       "2                                        Very lovely   \n",
       "3                           Nice song iam Bangladesh   \n",
       "4  Surt to dekhne ke ley hoti hai jnab \\r\\nBut re...   \n",
       "\n",
       "          AuthorDisplayName  \\\n",
       "0         Altamash Altamash   \n",
       "1  Sandeep Kumar pitaunjhia   \n",
       "2             Jannat Jannat   \n",
       "3            md Robul Islam   \n",
       "4               Monu Ansari   \n",
       "\n",
       "                               AuthorProfileImageUrl  \\\n",
       "0  https://yt3.ggpht.com/a/AGF-l7_R5RnLa20s3OJlgs...   \n",
       "1  https://yt3.ggpht.com/a/AGF-l7_PCuPRZjJqIkF3lW...   \n",
       "2  https://yt3.ggpht.com/a/AGF-l78deyjFqPR1ikjIWa...   \n",
       "3  https://yt3.ggpht.com/a/AGF-l78D3igTCIza4OEAKl...   \n",
       "4  https://yt3.ggpht.com/a/AGF-l7_4-SsWTdQiL1IY16...   \n",
       "\n",
       "                                    AuthorChannelUrl  \\\n",
       "0  http://www.youtube.com/channel/UCcZ3vRT1wr34Bu...   \n",
       "1  http://www.youtube.com/channel/UCx0tTMQwPpV1KB...   \n",
       "2  http://www.youtube.com/channel/UCQE2oExMTF2Zpw...   \n",
       "3  http://www.youtube.com/channel/UCRodCdD_b59Vhk...   \n",
       "4  http://www.youtube.com/channel/UCDG7BtkGJVFVig...   \n",
       "\n",
       "            AuthorChannelID  ReplyCount  LikeCount  \n",
       "0  UCcZ3vRT1wr34Buwke3vfIvw           0          1  \n",
       "1  UCx0tTMQwPpV1KB8QghL1ZmA           0          0  \n",
       "2  UCQE2oExMTF2ZpwzRFoeo83Q           0          0  \n",
       "3  UCRodCdD_b59VhkdI7SO22fw           0          1  \n",
       "4  UCDG7BtkGJVFVigH3-D6LAwg           0          0  "
      ]
     },
     "execution_count": 51,
     "metadata": {},
     "output_type": "execute_result"
    }
   ],
   "source": [
    "#reading a cvc file and the head method to read the first 5 enteries\n",
    "import pandas as pd\n",
    "csv_path='example.csv'\n",
    "df=pd.read_csv(csv_path)\n",
    "df.head()"
   ]
  },
  {
   "cell_type": "code",
   "execution_count": 6,
   "metadata": {},
   "outputs": [
    {
     "data": {
      "text/html": [
       "<div>\n",
       "<style scoped>\n",
       "    .dataframe tbody tr th:only-of-type {\n",
       "        vertical-align: middle;\n",
       "    }\n",
       "\n",
       "    .dataframe tbody tr th {\n",
       "        vertical-align: top;\n",
       "    }\n",
       "\n",
       "    .dataframe thead th {\n",
       "        text-align: right;\n",
       "    }\n",
       "</style>\n",
       "<table border=\"1\" class=\"dataframe\">\n",
       "  <thead>\n",
       "    <tr style=\"text-align: right;\">\n",
       "      <th></th>\n",
       "      <th>Album</th>\n",
       "      <th>Released</th>\n",
       "      <th>Lenght</th>\n",
       "    </tr>\n",
       "  </thead>\n",
       "  <tbody>\n",
       "    <tr>\n",
       "      <td>0</td>\n",
       "      <td>the little things</td>\n",
       "      <td>2018</td>\n",
       "      <td>01:02:56</td>\n",
       "    </tr>\n",
       "    <tr>\n",
       "      <td>1</td>\n",
       "      <td>the little things 2</td>\n",
       "      <td>2019</td>\n",
       "      <td>01:00:06</td>\n",
       "    </tr>\n",
       "    <tr>\n",
       "      <td>2</td>\n",
       "      <td>the little things 3</td>\n",
       "      <td>2020</td>\n",
       "      <td>00:55:50</td>\n",
       "    </tr>\n",
       "  </tbody>\n",
       "</table>\n",
       "</div>"
      ],
      "text/plain": [
       "                  Album  Released    Lenght\n",
       "0     the little things      2018  01:02:56\n",
       "1   the little things 2      2019  01:00:06\n",
       "2   the little things 3      2020  00:55:50"
      ]
     },
     "execution_count": 6,
     "metadata": {},
     "output_type": "execute_result"
    }
   ],
   "source": [
    "#creating a dataframe/rows and column by using set\n",
    "import pandas as pd\n",
    "songs={'Album':['the little things',' the little things 2','the little things 3'],'Released':[2018,2019,2020],'Lenght':['01:02:56','01:00:06','00:55:50']}\n",
    "songs_frame=pd.DataFrame(songs)\n",
    "songs_frame.head()\n",
    "#x=songs[['Length']]"
   ]
  },
  {
   "cell_type": "code",
   "execution_count": 71,
   "metadata": {},
   "outputs": [
    {
     "data": {
      "text/plain": [
       "'UCDG7BtkGJVFVigH3-D6LAwg'"
      ]
     },
     "execution_count": 71,
     "metadata": {},
     "output_type": "execute_result"
    }
   ],
   "source": [
    "#displaying the specfic content of a file(iloc used while defining interger values)\n",
    "import pandas as pd\n",
    "csv_path='example.csv'\n",
    "akash=pd.read_csv(csv_path)\n",
    "##akash.head()\n",
    "akash.iloc[0,0]\n",
    "akash.iloc[4,4]"
   ]
  },
  {
   "cell_type": "code",
   "execution_count": 23,
   "metadata": {},
   "outputs": [
    {
     "data": {
      "text/plain": [
       "'Very lovely'"
      ]
     },
     "execution_count": 23,
     "metadata": {},
     "output_type": "execute_result"
    }
   ],
   "source": [
    "#displaying the specfic content of a file(loc used while defining string+integer values)\n",
    "import pandas as pd\n",
    "csv_path='example.csv'\n",
    "akash=pd.read_csv(csv_path)\n",
    "akash.loc[2,'Comment']"
   ]
  },
  {
   "cell_type": "code",
   "execution_count": 22,
   "metadata": {},
   "outputs": [
    {
     "ename": "NameError",
     "evalue": "name 'akash' is not defined",
     "output_type": "error",
     "traceback": [
      "\u001b[1;31m---------------------------------------------------------------------------\u001b[0m",
      "\u001b[1;31mNameError\u001b[0m                                 Traceback (most recent call last)",
      "\u001b[1;32m<ipython-input-22-dccd33e05b8a>\u001b[0m in \u001b[0;36m<module>\u001b[1;34m\u001b[0m\n\u001b[0;32m      1\u001b[0m \u001b[1;32mimport\u001b[0m \u001b[0mpandas\u001b[0m \u001b[1;32mas\u001b[0m \u001b[0mpd\u001b[0m\u001b[1;33m\u001b[0m\u001b[1;33m\u001b[0m\u001b[0m\n\u001b[0;32m      2\u001b[0m \u001b[0mcsv_path\u001b[0m\u001b[1;33m=\u001b[0m\u001b[1;34m'example.csv'\u001b[0m\u001b[1;33m\u001b[0m\u001b[1;33m\u001b[0m\u001b[0m\n\u001b[1;32m----> 3\u001b[1;33m \u001b[0mshubham\u001b[0m\u001b[1;33m=\u001b[0m\u001b[0makash\u001b[0m\u001b[1;33m.\u001b[0m\u001b[0miloc\u001b[0m\u001b[1;33m[\u001b[0m\u001b[1;36m0\u001b[0m\u001b[1;33m:\u001b[0m\u001b[1;36m2\u001b[0m\u001b[1;33m,\u001b[0m\u001b[1;36m0\u001b[0m\u001b[1;33m:\u001b[0m\u001b[1;36m3\u001b[0m\u001b[1;33m]\u001b[0m\u001b[1;33m\u001b[0m\u001b[1;33m\u001b[0m\u001b[0m\n\u001b[0m\u001b[0;32m      4\u001b[0m \u001b[1;31m#shubham=pd.read_csv(csv_path)\u001b[0m\u001b[1;33m\u001b[0m\u001b[1;33m\u001b[0m\u001b[1;33m\u001b[0m\u001b[0m\n",
      "\u001b[1;31mNameError\u001b[0m: name 'akash' is not defined"
     ]
    }
   ],
   "source": [
    "import pandas as pd\n",
    "csv_path='example.csv'\n",
    "shubham=akash.iloc[0:2,0:3]\n",
    "#shubham=pd.read_csv(csv_path)"
   ]
  },
  {
   "cell_type": "code",
   "execution_count": 25,
   "metadata": {},
   "outputs": [],
   "source": [
    "import pandas as pd\n",
    "csv_path='example.csv'\n",
    "shubham=akash.loc[0:2,'Comment':'AuthorProfileImageUrl']\n",
    "shubham=pd.read_csv(csv_path)"
   ]
  },
  {
   "cell_type": "code",
   "execution_count": 21,
   "metadata": {},
   "outputs": [
    {
     "name": "stdout",
     "output_type": "stream",
     "text": [
      "[ 1  3  5  9  8  6  2  7  4 26 84 21 48 15]\n"
     ]
    },
    {
     "data": {
      "text/plain": [
       "Roll Nu    9.666667\n",
       "dtype: float64"
      ]
     },
     "execution_count": 21,
     "metadata": {},
     "output_type": "execute_result"
    }
   ],
   "source": [
    "import pandas as pd\n",
    "csv_path='rollnum.csv'\n",
    "df=pd.read_csv(csv_path)\n",
    "print(df['Roll Nu'].unique())\n",
    "df.mean()"
   ]
  },
  {
   "cell_type": "code",
   "execution_count": 90,
   "metadata": {},
   "outputs": [
    {
     "name": "stderr",
     "output_type": "stream",
     "text": [
      "D:\\Anaconda\\lib\\site-packages\\ipykernel_launcher.py:6: FutureWarning: The signature of `Series.to_csv` was aligned to that of `DataFrame.to_csv`, and argument 'header' will change its default value from False to True: please pass an explicit value to suppress this warning.\n",
      "  \n"
     ]
    }
   ],
   "source": [
    "import pandas as pd\n",
    "csv_path='rollnum.csv'\n",
    "df=pd.read_csv(csv_path)\n",
    "df['Roll Nu']>=7\n",
    "df1=df['Roll Nu']>=7\n",
    "df1.to_csv('akash.csv')"
   ]
  },
  {
   "cell_type": "code",
   "execution_count": 2,
   "metadata": {},
   "outputs": [
    {
     "data": {
      "text/html": [
       "<div>\n",
       "<style scoped>\n",
       "    .dataframe tbody tr th:only-of-type {\n",
       "        vertical-align: middle;\n",
       "    }\n",
       "\n",
       "    .dataframe tbody tr th {\n",
       "        vertical-align: top;\n",
       "    }\n",
       "\n",
       "    .dataframe thead th {\n",
       "        text-align: right;\n",
       "    }\n",
       "</style>\n",
       "<table border=\"1\" class=\"dataframe\">\n",
       "  <thead>\n",
       "    <tr style=\"text-align: right;\">\n",
       "      <th></th>\n",
       "      <th>a</th>\n",
       "      <th>b</th>\n",
       "    </tr>\n",
       "  </thead>\n",
       "  <tbody>\n",
       "    <tr>\n",
       "      <td>0</td>\n",
       "      <td>11</td>\n",
       "      <td>21</td>\n",
       "    </tr>\n",
       "    <tr>\n",
       "      <td>1</td>\n",
       "      <td>21</td>\n",
       "      <td>22</td>\n",
       "    </tr>\n",
       "    <tr>\n",
       "      <td>2</td>\n",
       "      <td>31</td>\n",
       "      <td>23</td>\n",
       "    </tr>\n",
       "  </tbody>\n",
       "</table>\n",
       "</div>"
      ],
      "text/plain": [
       "    a   b\n",
       "0  11  21\n",
       "1  21  22\n",
       "2  31  23"
      ]
     },
     "execution_count": 2,
     "metadata": {},
     "output_type": "execute_result"
    }
   ],
   "source": [
    "import pandas as banana\n",
    "df=banana.DataFrame({'a':[11,21,31],'b':[21,22,23]})\n",
    "df.head()"
   ]
  },
  {
   "cell_type": "code",
   "execution_count": 27,
   "metadata": {},
   "outputs": [
    {
     "name": "stdout",
     "output_type": "stream",
     "text": [
      "Requirement already satisfied: nba_api in d:\\anaconda\\lib\\site-packages (1.1.8)\n",
      "Requirement already satisfied: requests in d:\\anaconda\\lib\\site-packages (from nba_api) (2.22.0)\n",
      "Requirement already satisfied: chardet<3.1.0,>=3.0.2 in d:\\anaconda\\lib\\site-packages (from requests->nba_api) (3.0.4)\n",
      "Requirement already satisfied: certifi>=2017.4.17 in d:\\anaconda\\lib\\site-packages (from requests->nba_api) (2019.9.11)\n",
      "Requirement already satisfied: urllib3!=1.25.0,!=1.25.1,<1.26,>=1.21.1 in d:\\anaconda\\lib\\site-packages (from requests->nba_api) (1.24.2)\n",
      "Requirement already satisfied: idna<2.9,>=2.5 in d:\\anaconda\\lib\\site-packages (from requests->nba_api) (2.8)\n"
     ]
    },
    {
     "data": {
      "text/plain": [
       "[{'id': 1610612737,\n",
       "  'full_name': 'Atlanta Hawks',\n",
       "  'abbreviation': 'ATL',\n",
       "  'nickname': 'Hawks',\n",
       "  'city': 'Atlanta',\n",
       "  'state': 'Atlanta',\n",
       "  'year_founded': 1949},\n",
       " {'id': 1610612738,\n",
       "  'full_name': 'Boston Celtics',\n",
       "  'abbreviation': 'BOS',\n",
       "  'nickname': 'Celtics',\n",
       "  'city': 'Boston',\n",
       "  'state': 'Massachusetts',\n",
       "  'year_founded': 1946},\n",
       " {'id': 1610612739,\n",
       "  'full_name': 'Cleveland Cavaliers',\n",
       "  'abbreviation': 'CLE',\n",
       "  'nickname': 'Cavaliers',\n",
       "  'city': 'Cleveland',\n",
       "  'state': 'Ohio',\n",
       "  'year_founded': 1970},\n",
       " {'id': 1610612740,\n",
       "  'full_name': 'New Orleans Pelicans',\n",
       "  'abbreviation': 'NOP',\n",
       "  'nickname': 'Pelicans',\n",
       "  'city': 'New Orleans',\n",
       "  'state': 'Louisiana',\n",
       "  'year_founded': 2002},\n",
       " {'id': 1610612741,\n",
       "  'full_name': 'Chicago Bulls',\n",
       "  'abbreviation': 'CHI',\n",
       "  'nickname': 'Bulls',\n",
       "  'city': 'Chicago',\n",
       "  'state': 'Illinois',\n",
       "  'year_founded': 1966}]"
      ]
     },
     "execution_count": 27,
     "metadata": {},
     "output_type": "execute_result"
    }
   ],
   "source": [
    "!pip install nba_api\n",
    "from nba_api.stats.static import teams\n",
    "nba_teams=teams.get_teams()\n",
    "nba_teams[:5]"
   ]
  },
  {
   "cell_type": "code",
   "execution_count": 8,
   "metadata": {},
   "outputs": [
    {
     "name": "stdout",
     "output_type": "stream",
     "text": [
      "Requirement already satisfied: nba_api in d:\\anaconda\\lib\\site-packages (1.1.8)\n",
      "Requirement already satisfied: requests in d:\\anaconda\\lib\\site-packages (from nba_api) (2.22.0)\n",
      "Requirement already satisfied: chardet<3.1.0,>=3.0.2 in d:\\anaconda\\lib\\site-packages (from requests->nba_api) (3.0.4)\n",
      "Requirement already satisfied: idna<2.9,>=2.5 in d:\\anaconda\\lib\\site-packages (from requests->nba_api) (2.8)\n",
      "Requirement already satisfied: urllib3!=1.25.0,!=1.25.1,<1.26,>=1.21.1 in d:\\anaconda\\lib\\site-packages (from requests->nba_api) (1.24.2)\n",
      "Requirement already satisfied: certifi>=2017.4.17 in d:\\anaconda\\lib\\site-packages (from requests->nba_api) (2019.9.11)\n"
     ]
    },
    {
     "data": {
      "text/html": [
       "<div>\n",
       "<style scoped>\n",
       "    .dataframe tbody tr th:only-of-type {\n",
       "        vertical-align: middle;\n",
       "    }\n",
       "\n",
       "    .dataframe tbody tr th {\n",
       "        vertical-align: top;\n",
       "    }\n",
       "\n",
       "    .dataframe thead th {\n",
       "        text-align: right;\n",
       "    }\n",
       "</style>\n",
       "<table border=\"1\" class=\"dataframe\">\n",
       "  <thead>\n",
       "    <tr style=\"text-align: right;\">\n",
       "      <th></th>\n",
       "      <th>id</th>\n",
       "      <th>full_name</th>\n",
       "      <th>abbreviation</th>\n",
       "      <th>nickname</th>\n",
       "      <th>city</th>\n",
       "      <th>state</th>\n",
       "      <th>year_founded</th>\n",
       "    </tr>\n",
       "  </thead>\n",
       "  <tbody>\n",
       "    <tr>\n",
       "      <td>0</td>\n",
       "      <td>1610612737</td>\n",
       "      <td>Atlanta Hawks</td>\n",
       "      <td>ATL</td>\n",
       "      <td>Hawks</td>\n",
       "      <td>Atlanta</td>\n",
       "      <td>Atlanta</td>\n",
       "      <td>1949</td>\n",
       "    </tr>\n",
       "    <tr>\n",
       "      <td>1</td>\n",
       "      <td>1610612738</td>\n",
       "      <td>Boston Celtics</td>\n",
       "      <td>BOS</td>\n",
       "      <td>Celtics</td>\n",
       "      <td>Boston</td>\n",
       "      <td>Massachusetts</td>\n",
       "      <td>1946</td>\n",
       "    </tr>\n",
       "    <tr>\n",
       "      <td>2</td>\n",
       "      <td>1610612739</td>\n",
       "      <td>Cleveland Cavaliers</td>\n",
       "      <td>CLE</td>\n",
       "      <td>Cavaliers</td>\n",
       "      <td>Cleveland</td>\n",
       "      <td>Ohio</td>\n",
       "      <td>1970</td>\n",
       "    </tr>\n",
       "    <tr>\n",
       "      <td>3</td>\n",
       "      <td>1610612740</td>\n",
       "      <td>New Orleans Pelicans</td>\n",
       "      <td>NOP</td>\n",
       "      <td>Pelicans</td>\n",
       "      <td>New Orleans</td>\n",
       "      <td>Louisiana</td>\n",
       "      <td>2002</td>\n",
       "    </tr>\n",
       "    <tr>\n",
       "      <td>4</td>\n",
       "      <td>1610612741</td>\n",
       "      <td>Chicago Bulls</td>\n",
       "      <td>CHI</td>\n",
       "      <td>Bulls</td>\n",
       "      <td>Chicago</td>\n",
       "      <td>Illinois</td>\n",
       "      <td>1966</td>\n",
       "    </tr>\n",
       "  </tbody>\n",
       "</table>\n",
       "</div>"
      ],
      "text/plain": [
       "           id             full_name abbreviation   nickname         city  \\\n",
       "0  1610612737         Atlanta Hawks          ATL      Hawks      Atlanta   \n",
       "1  1610612738        Boston Celtics          BOS    Celtics       Boston   \n",
       "2  1610612739   Cleveland Cavaliers          CLE  Cavaliers    Cleveland   \n",
       "3  1610612740  New Orleans Pelicans          NOP   Pelicans  New Orleans   \n",
       "4  1610612741         Chicago Bulls          CHI      Bulls      Chicago   \n",
       "\n",
       "           state  year_founded  \n",
       "0        Atlanta          1949  \n",
       "1  Massachusetts          1946  \n",
       "2           Ohio          1970  \n",
       "3      Louisiana          2002  \n",
       "4       Illinois          1966  "
      ]
     },
     "execution_count": 8,
     "metadata": {},
     "output_type": "execute_result"
    }
   ],
   "source": [
    "!pip install nba_api\n",
    "from nba_api.stats.static import teams\n",
    "nba_teams=teams.get_teams()\n",
    "import pandas as pd\n",
    "def one_dict(list_dict):\n",
    "    keys=list_dict[0].keys()\n",
    "    out_dict={key:[] for key in keys}\n",
    "    for dict_ in list_dict:\n",
    "        for key,value in dict_.items():\n",
    "            out_dict[key].append(value)\n",
    "    return out_dict\n",
    "dict_nba_team=one_dict(nba_teams)\n",
    "df_teams=pd.DataFrame(dict_nba_team)\n",
    "df_teams.head()"
   ]
  },
  {
   "cell_type": "code",
   "execution_count": 46,
   "metadata": {},
   "outputs": [
    {
     "data": {
      "text/plain": [
       "0"
      ]
     },
     "execution_count": 46,
     "metadata": {},
     "output_type": "execute_result"
    }
   ],
   "source": [
    "import numpy as np\n",
    "#a=np.array([0,1,0,1,0]) b=np.array([1,0,1,0,1]) a*b\n",
    "a=np.array([0,1])\n",
    "\n",
    "b=np.array([1,0])\n",
    "\n",
    "np.dot(a,b)"
   ]
  },
  {
   "cell_type": "code",
   "execution_count": 3,
   "metadata": {},
   "outputs": [
    {
     "name": "stdout",
     "output_type": "stream",
     "text": [
      "['UCcZ3vRT1wr34Buwke3vfIvw' 'UCx0tTMQwPpV1KB8QghL1ZmA'\n",
      " 'UCQE2oExMTF2ZpwzRFoeo83Q' 'UCRodCdD_b59VhkdI7SO22fw'\n",
      " 'UCDG7BtkGJVFVigH3-D6LAwg' 'UCWFMmGvrcZc4GU-5UaEPZ7w'\n",
      " 'UCu0M932Gm4Ugh6uVjpaHlbg' 'UC3LOdkC4EOQXz4PmprzB3Ew'\n",
      " 'UC3ib93n4tl2mnZctp6yZORg' 'UCzVCSEo5k2ho8sZoz3WSowg'\n",
      " 'UC0_1ELbXT7d39VGkdoMej3w' 'UCggLqz9vZx6vupnotlmfnmQ'\n",
      " 'UCHs8a8zJiXCNNgm8Oa9fGUw' 'UCYGMZKEf5mzLLPXfvSmLGYw'\n",
      " 'UC4bqz_tq8qsuonRpc-QtuyQ' 'UC9tObxo8kpn6BFbmKHIGl6w'\n",
      " 'UCBUYZKMBZ6YDzZV4XBRprOw' 'UCOz-tq6KYsS4R0SOBw51NZg'\n",
      " 'UCMD8RysRyCxy9Sez2znz2Sg' 'UCpr467ocI4pH7va-ERQHkGA'\n",
      " 'UCgvmAUFcSHFJkqbXvRPouKw' 'UC0TLcaNExEtyM9ox7kcfwMA'\n",
      " 'UCb3oZZqoPeEie8O1JZZjomg' 'UC2M9F4gnV49i80F3sn-Ksng'\n",
      " 'UCfpppvZODmfx5B6wL2yUNHQ' 'UCI8gmOSN06mJa5aN83JYgAQ'\n",
      " 'UCpcqTAwiNp73FgofOpJF1JA' 'UCNHM6SADCJ-BVpSgM8sjcIQ'\n",
      " 'UCrHHN_WAJPywhukj2yTQP9A' 'UCVZHRzUKdaZa0kUva8zy_0A'\n",
      " 'UC2DkCdnixnmSr0CznC3Q1Mw' 'UCq8YIbQ-Hw8CoA6p-7nD1iw'\n",
      " 'UCfScQHI0twTz4LHz4mBXyrQ' 'UC8xUmtwByNbeHayFVzY84Zw'\n",
      " 'UCz9Pv_RIUrVUXImJpqCB5Pg' 'UCxC_UHA5GFxNrkw1oX6-gPg'\n",
      " 'UCgqY9dolaxOw0t0EoJsfXTA' 'UCcQxvzfn_dKeXB7MkbFNaNA'\n",
      " 'UC6EztNB86D3OPrLkVHaJv1g' 'UCOxxkdvOw7ZkcMHRBcH8JhQ'\n",
      " 'UCuadYhzoUS_ruEwz7hkllKA' 'UCo3Kn_DOtX4EKP4Wlb9sRCw'\n",
      " 'UCJ9s7bIec9HT_pBpRnHGzHQ' 'UCaO1vXlIyFEasSe5UyWpeJA'\n",
      " 'UClgNedEQ9pqGuOQMV34wTpg' 'UCETrk5btfAm9AQJbTesHK4w'\n",
      " 'UCizansjSPh3KoLyTPFCBJHg' 'UCEB0zBjUQe9sRAS-8WLee7w'\n",
      " 'UCnzY3oSWzbGb1hDMUpdhHUQ' 'UCdVZ9Pk8Nn7QyVm5pYjNmeQ'\n",
      " 'UCpNuy99np5tnQWjz7vou1Ww' 'UCRr42GhYN9bZnYPfD9kYfNA'\n",
      " 'UCdWjIAYzShLtPYTrcXR8qyQ' 'UCrPO2jtQb03AGWCWAkEnbvw'\n",
      " 'UCoTcJlUegOwp9IdOtjK2lcg' 'UC83aWpasIZk_wxAnjbawtcA'\n",
      " 'UCpVwRZm2GNjd8sfsWRzs5_Q' 'UCm1ZW7uLSp5P4YZvNpIyGxA'\n",
      " 'UCIgHuQkyt-uTY0CJeF3hfqw' 'UCT6YRU-WrGI6UwYtWQur5Hg'\n",
      " 'UCmg1J4PDsQoQZyTLE-AWW1g' 'UCYm-92PMS18XnLFRIpVXo2w'\n",
      " 'UCs0JWl_0fXZG2BZRsd45nmA' 'UCpFXIDBRLuzfoXNBnPETwxA'\n",
      " 'UCOo52DglSEtwKa2vt1dwj8w' 'UCz3arMTOGmjJAal3lVKDIhQ'\n",
      " 'UC2VzKNknuIEKyItewqTRrBA' 'UC09Ji6oB_V8aES7rtAqCHSA'\n",
      " 'UCwJeVwyiSQSCTfG6qyqqi_g' 'UCOf1WjADXCe2uznRRGILfqg'\n",
      " 'UCu-xeRB5Sp7mL7Tgv-EkVSA' 'UCLMwMh64o3zfOB0zYQthJGQ'\n",
      " 'UC85yXmC0mywpJ_jB3uztDjg' 'UCEkqH7ejENrUauLcfKolNoQ'\n",
      " 'UCHj9uBz9FtndILov1JreSEQ' 'UCDX6nclrPQLGeLXD7nnKWlQ'\n",
      " 'UC4tSaIaRF7EfTVUGgCrBu3w' 'UCWgSClaayRlVVOJGd7NcTsw'\n",
      " 'UCH2RVlEd0lpItAizTY0Y1CA' 'UCYS7MY4k3IIQgsP6pkJEiBQ'\n",
      " 'UCGARZjJwLdml-yy-Ko3mr2w' 'UCgQT_aJIr5Ol-M9xgDGNXQw'\n",
      " 'UCh58XeV83aR0O8BjM-pX6XA' 'UCEfENixfmAonIoPGU-tcLsA'\n",
      " 'UCu5UsAkY740SenhIaPcX7uA' 'UCIo-Fd0gPgYa5CsbzwcPPMw'\n",
      " 'UCDEi9o8pKKd_WhcwiHWEc5Q' 'UCxG4_i3ZrDPPWgzQvkY-qYw'\n",
      " 'UCC-i1UnOkGMbxHogeOvQ2BQ' 'UCv61KLruRr4pbw9zHAMqQig'\n",
      " 'UCNb90Qn6EIED_xMe42U33fg' 'UCUW-99r9L-YaOPaI8qv-yqg'\n",
      " 'UCEkXo9LPjdwtcRIZpMpCnNA' 'UCaA8li_Wvz1Dkzp2ogynSUg'\n",
      " 'UC-9T2TT_CMx4HFz_dciAIEA' 'UCLKClTVOTfbSFFC-wxXTaPw'\n",
      " 'UCvZURhAIxawEH3cTubEKUpQ' 'UCey6z4mVZE3ta69-cHrQ1kQ'\n",
      " 'UCKBr1i4DI1tRJ0BB0UcF5ig' 'UCBeAzeNtYZPrm9YZgifHJlg'\n",
      " 'UCsznzeD1oXCi68D5p-SvKrg' 'UCwQdkWjodlMpZ9x7V8emRpg'\n",
      " 'UCic3HBb6iA7CmvSfFjuT0mw' 'UC29OpktvIVPrtGHVS-XHkvQ'\n",
      " 'UCnxbARnOfUBi8Rey2VcejGg' 'UCp4-bmC-vxXZt_dYsamfh7g'\n",
      " 'UCLzFJ4i9A18p6EilOYhvlWw' 'UCxx5FRJtzYj3M9id_a-hlfw'\n",
      " 'UCYpZTDb2kj_bcrrLuZwHB6g' 'UCvCdyFz95cl4EjUa1IZY4TQ'\n",
      " 'UCQcEYgL6cgGjT0o4FiH7j_Q' 'UCpit3i8pN8kg-G5PfIGIYdw'\n",
      " 'UCRmvlUBXziriHcNYmqa6yUQ' 'UCy3RkEs0XsfgMrOPnvg_kbg'\n",
      " 'UC0uAgXEoL2xJPhU7tewATmQ' 'UCybgYR_85Hh_fptWJu67Iwg'\n",
      " 'UCts9UxLx9RGqblp3RCZEqMQ' 'UC3MiIE0jcCf6_9p6L1pgINQ'\n",
      " 'UChI2P_wbydOQY3ML5spirVA' 'UCoubdO5HVC1kFjuVyQ8hydg'\n",
      " 'UCwHc2zfnVISAzPDw7K-FgTg' 'UCTURCi8tKacz9iqNj4yeK-A'\n",
      " 'UCgtA7TLH9K2JGUzurNVHYhA' 'UCgFXwuxOY7e_LJvw4WEDVdA'\n",
      " 'UCueH1zqcAS9yWz1m42s1yTw' 'UCLbClaW765n6PwOpK8t1zYg'\n",
      " 'UC_2goVv5W_MILdZkRqDnzvg' 'UC57_CfFC9nOwVPykNJlsAcQ'\n",
      " 'UCig51o49DW4KVtwtTjuDLOA' 'UCS7Ov_2R9hFesStoHXbARaw'\n",
      " 'UCbl7XvoR39Aph4GxrA1vzuQ' 'UCm7vB4NzTsv0_ZUz47ACuYA'\n",
      " 'UCB8i6SO9V8UtLqcw-JXPuOg' 'UCwECSZjtPm8BPxh7HUfbf-g'\n",
      " 'UCrc6_vkTBr7RUT7GQ4ECplA' 'UCdmJavJftdtk-YuVl5M02mQ'\n",
      " 'UCwd2FTq7hrbqhNy9rk2O0OQ' 'UCoh8cXS2KoSZ5LjQeX5N2dg'\n",
      " 'UCvbEyC6rAM-Ys0pdVO9jIAw' 'UCsjokOcdD_pgXeTP5u5Sdxw'\n",
      " 'UCW_iVl0PDFfVgzg1GGabEfw' 'UCR-WixXmuNawTSFzWg1_8qQ'\n",
      " 'UCrao2ILvgF54V28kuPJFHLw' 'UCI-MqlETH1r7CRSKrXZElJw'\n",
      " 'UC0qza6ksoXRMkdIr7VF_mVw' 'UCK5DVdM5r0rUqjLEFNkonnw'\n",
      " 'UCVbJItBdTHOt-30qWWf_MnQ' 'UCuDCo8cEDll_qsKE0rKsviA'\n",
      " 'UC6aAOavx8kXcQW2mTqNdeyw' 'UCOSMQ3KS16AD00iCaPDwR6g'\n",
      " 'UCj4SHseZqVnUAmtGEPCnrUQ' 'UC34SJ6ZNEdkMI1Rcjw0sb2Q'\n",
      " 'UCAyaCQiUGk5aK_Ugld0mruw' 'UCCM2HzanCCOjQ0slaI4spUw'\n",
      " 'UCTjZnSyFG__MO9hCy9Akb_Q' 'UC1KOAUvhCKlzr1YqpOIQprA'\n",
      " 'UCO3CvO8R3623885TJFWcSeg' 'UCJsBCntE0S7_P8vvL-xZZBw'\n",
      " 'UCEsDAk2ggNUZyRWTQdEZWBQ' 'UC3eiGBCTg3xZhlN3F7kMUYQ'\n",
      " 'UCzIhQnWfS36Wbs6yUFt4NnA' 'UCHfsjAbW5ebexjiN39OenAQ'\n",
      " 'UC1EOgmUlUV15-SFLmRzEJow' 'UCUjvaQJB5YBsq64gq73cPmQ'\n",
      " 'UCX1HU4ScxBV1yKyiivkghrw' 'UCLlrNsEQ6ZT_SpsA89vVVJg'\n",
      " 'UCmvFdsquMDqo5xletmYNfyA' 'UCGctMCq_Zf5trngZE8_tdPw'\n",
      " 'UCey17n_5DFaD_9nNNysoX7g' 'UCcX-yq9t50i8DSTDEb-zXbA'\n",
      " 'UCZR99gjl5g9-HmOIcHvdYsw' 'UCLNhEHOteOQY4oukfBmHjtg'\n",
      " 'UCrvkojJySpOF1bXk3HPcV8w' 'UCP9A29SBuHvjl6RyKNrR-XQ'\n",
      " 'UC-OkQit1Tdeb_FVo_yPbs3Q' 'UCeG5DCRFhPSgX6ZiM84sUxA'\n",
      " 'UCLq2H4fEERKKWzAwezqLGrw' 'UCEokMUVllBtmzU6qiZ_28JQ'\n",
      " 'UCOX9BmAo8QH8MhMQ5t3v51g' 'UCIirB3OulEGaBpi3i_eg5rQ'\n",
      " 'UC_xDNXwievf1FcYKhpS-_5w' 'UC8B1WHllhPK51-8KkFAJklg'\n",
      " 'UC57DyTNQOzT_TPlmfZr8zqg' 'UChPrxDxs62a8SgIIVHvTkVg'\n",
      " 'UCODfXi9Ls4_21bBpRe3FHnA' 'UCwDu-lXDUP5MS612w_D4pdQ'\n",
      " 'UCVLtuSBzeUixKKksOsgC5PQ' 'UCXkVNKCTl8gCaEKTQKJ9ifA'\n",
      " 'UCeRDGxQf3Sm3JI2ooeo6ZgQ']\n"
     ]
    }
   ],
   "source": [
    "#finding unique element in a file\n",
    "import pandas as pd\n",
    "csv_path='usrid.csv'\n",
    "df=pd.read_csv(csv_path)\n",
    "print(df['AuthorChannelID'].unique())"
   ]
  }
 ],
 "metadata": {
  "kernelspec": {
   "display_name": "Python 3",
   "language": "python",
   "name": "python3"
  },
  "language_info": {
   "codemirror_mode": {
    "name": "ipython",
    "version": 3
   },
   "file_extension": ".py",
   "mimetype": "text/x-python",
   "name": "python",
   "nbconvert_exporter": "python",
   "pygments_lexer": "ipython3",
   "version": "3.7.4"
  }
 },
 "nbformat": 4,
 "nbformat_minor": 2
}
